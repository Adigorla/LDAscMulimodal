{
 "cells": [
  {
   "cell_type": "code",
   "execution_count": 1,
   "id": "6a1cc15a",
   "metadata": {},
   "outputs": [],
   "source": [
    "import numpy as np\n",
    "import anndata as ad\n",
    "import scipy.io as scIO\n",
    "import scipy.sparse as scs\n",
    "import pandas as pd\n",
    "import loompy as lp\n",
    "from random import sample"
   ]
  },
  {
   "cell_type": "code",
   "execution_count": 2,
   "id": "f5dc206c",
   "metadata": {},
   "outputs": [],
   "source": [
    "idir = '/Users/adityagorla/Desktop/STATS254/scIB'"
   ]
  },
  {
   "cell_type": "code",
   "execution_count": null,
   "id": "57efe6a3",
   "metadata": {},
   "outputs": [],
   "source": []
  },
  {
   "cell_type": "code",
   "execution_count": null,
   "id": "64f93a67",
   "metadata": {},
   "outputs": [],
   "source": []
  },
  {
   "cell_type": "markdown",
   "id": "df49e45a",
   "metadata": {},
   "source": [
    "# Import and Explore - RNA"
   ]
  },
  {
   "cell_type": "code",
   "execution_count": 3,
   "id": "f12f2d54",
   "metadata": {
    "collapsed": true
   },
   "outputs": [
    {
     "data": {
      "text/html": [
       "<p>27998 rows, 160796 columns, 1 layer<br/>(showing up to 10x10)<br/>/Users/adityagorla/Desktop/STATS254/scIB/l5_all.loom<br/>name: <em>2018/01/26 22:15:53</em><br/>name: <em>20180403T120541.346682Z</em><br/><table><tr><td>&nbsp;</td><td>&nbsp;</td><td>&nbsp;</td><td>&nbsp;</td><td>&nbsp;</td><td>&nbsp;</td><td>&nbsp;</td><td><strong>Age</strong></td><td>p21, p23</td><td>p21, p23</td><td>p21, p23</td><td>p21, p23</td><td>p21, p23</td><td>p21, p23</td><td>p19, p21</td><td>p19, p21</td><td>p21, p23</td><td>p19, p21</td><td>...</td></tr><tr><td>&nbsp;</td><td>&nbsp;</td><td>&nbsp;</td><td>&nbsp;</td><td>&nbsp;</td><td>&nbsp;</td><td>&nbsp;</td><td><strong>AnalysisPool</strong></td><td>Enteric</td><td>Enteric</td><td>Enteric</td><td>Enteric</td><td>Enteric</td><td>Enteric</td><td>Enteric</td><td>Enteric</td><td>Enteric</td><td>Enteric</td><td>...</td></tr><tr><td>&nbsp;</td><td>&nbsp;</td><td>&nbsp;</td><td>&nbsp;</td><td>&nbsp;</td><td>&nbsp;</td><td>&nbsp;</td><td><strong>AnalysisProject</strong></td><td>Adolescent</td><td>Adolescent</td><td>Adolescent</td><td>Adolescent</td><td>Adolescent</td><td>Adolescent</td><td>Adolescent</td><td>Adolescent</td><td>Adolescent</td><td>Adolescent</td><td>...</td></tr><tr><td>&nbsp;</td><td>&nbsp;</td><td>&nbsp;</td><td>&nbsp;</td><td>&nbsp;</td><td>&nbsp;</td><td>&nbsp;</td><td><strong>Bucket</strong></td><td>/Users/sten/build_20171205/L4_Enteric_Neurons.loom</td><td>/Users/sten/build_20171205/L4_Enteric_Neurons.loom</td><td>/Users/sten/build_20171205/L4_Enteric_Neurons.loom</td><td>/Users/sten/build_20171205/L4_Enteric_Neurons.loom</td><td>/Users/sten/build_20171205/L4_Enteric_Neurons.loom</td><td>/Users/sten/build_20171205/L4_Enteric_Neurons.loom</td><td>/Users/sten/build_20171205/L4_Enteric_Neurons.loom</td><td>/Users/sten/build_20171205/L4_Enteric_Neurons.loom</td><td>/Users/sten/build_20171205/L4_Enteric_Neurons.loom</td><td>/Users/sten/build_20171205/L4_Enteric_Neurons.loom</td><td>...</td></tr><tr><td>&nbsp;</td><td>&nbsp;</td><td>&nbsp;</td><td>&nbsp;</td><td>&nbsp;</td><td>&nbsp;</td><td>&nbsp;</td><td><strong>CellConc</strong></td><td>1000</td><td>1000</td><td>1000</td><td>1000</td><td>1000</td><td>1000</td><td>1000</td><td>1000</td><td>1000</td><td>1000</td><td>...</td></tr><tr><td>&nbsp;</td><td>&nbsp;</td><td>&nbsp;</td><td>&nbsp;</td><td>&nbsp;</td><td>&nbsp;</td><td>&nbsp;</td><td><strong>CellID</strong></td><td>10X82_2_TCTCTCACCAGTTA-</td><td>10X82_2_TATTATCTACCAGA-</td><td>10X82_2_TATCCCAGATGGCA-</td><td>10X82_2_ATTACGTATGAATG-</td><td>10X82_2_ATACGTCAATAAGG-</td><td>10X82_2_TACAGTCTTCGGTC-</td><td>10X81_2_CGTAACATTCGACA-</td><td>10X81_3_TGATGAGATACACA-</td><td>10X82_2_GCCAGGTAGGACAC-</td><td>10X81_2_AGATCAGTCCGTAT-</td><td>...</td></tr><tr><td>&nbsp;</td><td>&nbsp;</td><td>&nbsp;</td><td>&nbsp;</td><td>&nbsp;</td><td>&nbsp;</td><td>&nbsp;</td><td><strong>Cell_Conc</strong></td><td>1000</td><td>1000</td><td>1000</td><td>1000</td><td>1000</td><td>1000</td><td>1000</td><td>1000</td><td>1000</td><td>1000</td><td>...</td></tr><tr><td>&nbsp;</td><td>&nbsp;</td><td>&nbsp;</td><td>&nbsp;</td><td>&nbsp;</td><td>&nbsp;</td><td>&nbsp;</td><td><strong>ChipID</strong></td><td>10X82</td><td>10X82</td><td>10X82</td><td>10X82</td><td>10X82</td><td>10X82</td><td>10X81</td><td>10X81</td><td>10X82</td><td>10X81</td><td>...</td></tr><tr><td>&nbsp;</td><td>&nbsp;</td><td>&nbsp;</td><td>&nbsp;</td><td>&nbsp;</td><td>&nbsp;</td><td>&nbsp;</td><td><strong>Class</strong></td><td>Neurons</td><td>Neurons</td><td>Neurons</td><td>Neurons</td><td>Neurons</td><td>Neurons</td><td>Neurons</td><td>Neurons</td><td>Neurons</td><td>Neurons</td><td>...</td></tr><tr><td>&nbsp;</td><td>&nbsp;</td><td>&nbsp;</td><td>&nbsp;</td><td>&nbsp;</td><td>&nbsp;</td><td>&nbsp;</td><td><strong>ClassProbability_Astrocyte</strong></td><td>0.0019066928357193203</td><td>0.0016280432367160702</td><td>0.001442371119771456</td><td>0.0014588527727608211</td><td>0.0013114769769024266</td><td>0.001401728372893371</td><td>0.0015184785192116678</td><td>0.0016035799690204849</td><td>0.0014427321058514797</td><td>0.0014199397313300632</td><td>...</td></tr><tr><td>&nbsp;</td><td>&nbsp;</td><td>&nbsp;</td><td>&nbsp;</td><td>&nbsp;</td><td>&nbsp;</td><td>&nbsp;</td><td><strong>ClassProbability_Astrocyte,Immune</strong></td><td>0.00048062321574226374</td><td>0.0004227793201626071</td><td>0.0003650463779465638</td><td>0.0003772070059891973</td><td>0.0003417394428646381</td><td>0.0003580446839276589</td><td>0.00040760794015975554</td><td>0.00043385576285106896</td><td>0.0003785113441852317</td><td>0.00038650050961498917</td><td>...</td></tr><tr><td>&nbsp;</td><td>&nbsp;</td><td>&nbsp;</td><td>&nbsp;</td><td>&nbsp;</td><td>&nbsp;</td><td>&nbsp;</td><td><strong>ClassProbability_Astrocyte,Neurons</strong></td><td>0.0025533596211774617</td><td>0.0023433597390213642</td><td>0.0021114112935140326</td><td>0.0021700394870497754</td><td>0.0020681886584825023</td><td>0.0020929032661028517</td><td>0.002376750903863037</td><td>0.0024868854826892712</td><td>0.0021762483715224044</td><td>0.002345536255842545</td><td>...</td></tr><tr><td>&nbsp;</td><td>&nbsp;</td><td>&nbsp;</td><td>&nbsp;</td><td>&nbsp;</td><td>&nbsp;</td><td>&nbsp;</td><td><strong>ClassProbability_Astrocyte,Oligos</strong></td><td>0.0006670936568702583</td><td>0.0005877984495726976</td><td>0.0005211472861012347</td><td>0.0005339644891281178</td><td>0.0004908467278871925</td><td>0.0005062413192018135</td><td>0.0005659122144918332</td><td>0.0005973698254594816</td><td>0.000530535089388164</td><td>0.000538903900860415</td><td>...</td></tr><tr><td>&nbsp;</td><td>&nbsp;</td><td>&nbsp;</td><td>&nbsp;</td><td>&nbsp;</td><td>&nbsp;</td><td>&nbsp;</td><td><strong>ClassProbability_Astrocyte,Vascular</strong></td><td>0.00032890901956911695</td><td>0.0002906662972148636</td><td>0.00025268148831791056</td><td>0.0002597507160844444</td><td>0.00023794409272694705</td><td>0.0002486386902480219</td><td>0.0002801259249998828</td><td>0.0002975176483252554</td><td>0.00026153497673650966</td><td>0.0002661326579808874</td><td>...</td></tr><tr><td>&nbsp;</td><td>&nbsp;</td><td>&nbsp;</td><td>&nbsp;</td><td>&nbsp;</td><td>&nbsp;</td><td>&nbsp;</td><td><strong>ClassProbability_Bergmann-glia</strong></td><td>0.0006021304061321051</td><td>0.0005278648514793478</td><td>0.0004678213347881837</td><td>0.00047719474519461805</td><td>0.0004406837947840928</td><td>0.00046078317754746266</td><td>0.0005064487585028127</td><td>0.0005368181151650369</td><td>0.00047662006611402113</td><td>0.0004817954779698832</td><td>...</td></tr><tr><td>&nbsp;</td><td>&nbsp;</td><td>&nbsp;</td><td>&nbsp;</td><td>&nbsp;</td><td>&nbsp;</td><td>&nbsp;</td><td><strong>ClassProbability_Blood</strong></td><td>0.0028788790687086685</td><td>0.0025276473701734887</td><td>0.00221540763927398</td><td>0.002249612262305765</td><td>0.002011442694227042</td><td>0.0021633251871957205</td><td>0.00237481062651619</td><td>0.0024802405666547794</td><td>0.0022545500552425893</td><td>0.0022348517671300005</td><td>...</td></tr><tr><td>&nbsp;</td><td>&nbsp;</td><td>&nbsp;</td><td>&nbsp;</td><td>&nbsp;</td><td>&nbsp;</td><td>&nbsp;</td><td><strong>ClassProbability_Blood,Vascular</strong></td><td>0.0006191506117083463</td><td>0.0005432699373263684</td><td>0.0004715683880311031</td><td>0.0004837026812500848</td><td>0.00044107362712457406</td><td>0.00046171952307332893</td><td>0.0005215727029937826</td><td>0.0005541879512596946</td><td>0.0004870991929730752</td><td>0.0004943284246369773</td><td>...</td></tr><tr><td>&nbsp;</td><td>&nbsp;</td><td>&nbsp;</td><td>&nbsp;</td><td>&nbsp;</td><td>&nbsp;</td><td>&nbsp;</td><td><strong>ClassProbability_Enteric-glia</strong></td><td>0.0018833626694920674</td><td>0.001555933690571393</td><td>0.0013386089563396262</td><td>0.0013702341092527693</td><td>0.0012169049925699633</td><td>0.0012943680233867612</td><td>0.0014253060724085265</td><td>0.001529759264519993</td><td>0.0013451520244624285</td><td>0.0013204379302521757</td><td>...</td></tr><tr><td>&nbsp;</td><td>&nbsp;</td><td>&nbsp;</td><td>&nbsp;</td><td>&nbsp;</td><td>&nbsp;</td><td>&nbsp;</td><td><strong>ClassProbability_Enteric-glia,Cycling</strong></td><td>0.00047371208486702963</td><td>0.0004116661928577629</td><td>0.0003498495465004705</td><td>0.00036327737285287234</td><td>0.00032524500659529494</td><td>0.000341831387994125</td><td>0.0003970912862876594</td><td>0.000425305378127812</td><td>0.00036481084043019687</td><td>0.0003746522731756592</td><td>...</td></tr><tr><td>&nbsp;</td><td>&nbsp;</td><td>&nbsp;</td><td>&nbsp;</td><td>&nbsp;</td><td>&nbsp;</td><td>&nbsp;</td><td><strong>ClassProbability_Ependymal</strong></td><td>0.002207593331001832</td><td>0.0017137425761195512</td><td>0.001448426749887809</td><td>0.001489316002423615</td><td>0.001297622227911684</td><td>0.001410177627135135</td><td>0.0015263668049394822</td><td>0.0016482237845108297</td><td>0.0014415617032493228</td><td>0.0013892018482000903</td><td>...</td></tr><tr><td>&nbsp;</td><td>&nbsp;</td><td>&nbsp;</td><td>&nbsp;</td><td>&nbsp;</td><td>&nbsp;</td><td>&nbsp;</td><td><strong>ClassProbability_Ex-Neurons</strong></td><td>0.0010045876405575405</td><td>0.000934480249678178</td><td>0.0008501175711066832</td><td>0.0008660609326529496</td><td>0.0007870884251839895</td><td>0.0008529612141203163</td><td>0.0008961281623621632</td><td>0.0009354131474982341</td><td>0.000858550530183164</td><td>0.0008528275142150483</td><td>...</td></tr><tr><td>&nbsp;</td><td>&nbsp;</td><td>&nbsp;</td><td>&nbsp;</td><td>&nbsp;</td><td>&nbsp;</td><td>&nbsp;</td><td><strong>ClassProbability_Ex-Vascular</strong></td><td>0.0001459938990927071</td><td>0.00012996447114368918</td><td>0.0001125315289540204</td><td>0.00011635881251914295</td><td>0.00010698314201590162</td><td>0.00011149998273658719</td><td>0.0001256730913305302</td><td>0.0001336946829648558</td><td>0.00011715623615897768</td><td>0.00011960279079757614</td><td>...</td></tr><tr><td>&nbsp;</td><td>&nbsp;</td><td>&nbsp;</td><td>&nbsp;</td><td>&nbsp;</td><td>&nbsp;</td><td>&nbsp;</td><td><strong>ClassProbability_Immune</strong></td><td>0.00350454518599244</td><td>0.0023966934094545376</td><td>0.0018945780964320729</td><td>0.001975812539235326</td><td>0.0016064712709044312</td><td>0.001810457046817763</td><td>0.0020512641976741836</td><td>0.002279009112190006</td><td>0.0018806947914581894</td><td>0.001811732236276707</td><td>...</td></tr><tr><td>&nbsp;</td><td>&nbsp;</td><td>&nbsp;</td><td>&nbsp;</td><td>&nbsp;</td><td>&nbsp;</td><td>&nbsp;</td><td><strong>ClassProbability_Immune,Neurons</strong></td><td>0.000662257665583963</td><td>0.0005969179558071455</td><td>0.0005281250377622326</td><td>0.0005417530371840914</td><td>0.0005011195224285445</td><td>0.0005259130316756918</td><td>0.0005736832092977721</td><td>0.0006013171845747656</td><td>0.0005454504666898827</td><td>0.000549063733293101</td><td>...</td></tr><tr><td>&nbsp;</td><td>&nbsp;</td><td>&nbsp;</td><td>&nbsp;</td><td>&nbsp;</td><td>&nbsp;</td><td>&nbsp;</td><td><strong>ClassProbability_Immune,Oligos</strong></td><td>0.0005286917231799758</td><td>0.0004692380898272252</td><td>0.00040958797214321884</td><td>0.000421880764328479</td><td>0.0003877967236936938</td><td>0.0004032499492749987</td><td>0.00045158033934496585</td><td>0.0004788000472432216</td><td>0.0004234154917911925</td><td>0.0004297297779643804</td><td>...</td></tr><tr><td>&nbsp;</td><td>&nbsp;</td><td>&nbsp;</td><td>&nbsp;</td><td>&nbsp;</td><td>&nbsp;</td><td>&nbsp;</td><td><strong>ClassProbability_Neurons</strong></td><td>0.9608778033827706</td><td>0.9670839756118221</td><td>0.9711858571438227</td><td>0.9704583367058057</td><td>0.9733968765565986</td><td>0.971787620395414</td><td>0.9693982218875178</td><td>0.9675929256897675</td><td>0.9709620487633494</td><td>0.9713714761825613</td><td>...</td></tr><tr><td>&nbsp;</td><td>&nbsp;</td><td>&nbsp;</td><td>&nbsp;</td><td>&nbsp;</td><td>&nbsp;</td><td>&nbsp;</td><td><strong>ClassProbability_Neurons,Cycling</strong></td><td>0.0011134257010490987</td><td>0.0009976737748063492</td><td>0.000894143447099845</td><td>0.000909070542749431</td><td>0.000853522766554483</td><td>0.0008616755586599845</td><td>0.0009780047953115165</td><td>0.0010234886495545574</td><td>0.0009149361693981203</td><td>0.0009375396198144895</td><td>...</td></tr><tr><td>&nbsp;</td><td>&nbsp;</td><td>&nbsp;</td><td>&nbsp;</td><td>&nbsp;</td><td>&nbsp;</td><td>&nbsp;</td><td><strong>ClassProbability_Neurons,Oligos</strong></td><td>0.004569397477944349</td><td>0.00432233409916403</td><td>0.003966201226114598</td><td>0.0041383771754911714</td><td>0.003954267031061573</td><td>0.0040438057309485015</td><td>0.0041264048499484035</td><td>0.004330825315328404</td><td>0.004071890520905673</td><td>0.0039786237636289705</td><td>...</td></tr><tr><td>&nbsp;</td><td>&nbsp;</td><td>&nbsp;</td><td>&nbsp;</td><td>&nbsp;</td><td>&nbsp;</td><td>&nbsp;</td><td><strong>ClassProbability_Neurons,Satellite-glia</strong></td><td>0.00011917354467899535</td><td>0.00010657583976920006</td><td>9.201380323388765e-05</td><td>9.551082255737832e-05</td><td>8.795992650451692e-05</td><td>9.0948283685343e-05</td><td>0.00010422325669351476</td><td>0.00011150437298716692</td><td>9.622525198705592e-05</td><td>9.993050431941479e-05</td><td>...</td></tr><tr><td>&nbsp;</td><td>&nbsp;</td><td>&nbsp;</td><td>&nbsp;</td><td>&nbsp;</td><td>&nbsp;</td><td>&nbsp;</td><td><strong>ClassProbability_Neurons,Vascular</strong></td><td>0.00011276573122429777</td><td>0.00010140124966108102</td><td>8.83794498169256e-05</td><td>9.13128084981721e-05</td><td>8.462548574785925e-05</td><td>8.722530143227708e-05</td><td>9.913539984068001e-05</td><td>0.0001056946167785987</td><td>9.220445356816403e-05</td><td>9.517306109228991e-05</td><td>...</td></tr><tr><td>&nbsp;</td><td>&nbsp;</td><td>&nbsp;</td><td>&nbsp;</td><td>&nbsp;</td><td>&nbsp;</td><td>&nbsp;</td><td><strong>ClassProbability_OEC</strong></td><td>0.0001273784837035599</td><td>0.00011422944188442962</td><td>9.826260067867309e-05</td><td>0.0001016637030129996</td><td>9.501059598103876e-05</td><td>9.867209143435547e-05</td><td>0.00011143396360607158</td><td>0.00011866028286648155</td><td>0.00010318921970184461</td><td>0.00010663644541525065</td><td>...</td></tr><tr><td>&nbsp;</td><td>&nbsp;</td><td>&nbsp;</td><td>&nbsp;</td><td>&nbsp;</td><td>&nbsp;</td><td>&nbsp;</td><td><strong>ClassProbability_Oligos</strong></td><td>0.004646110245557772</td><td>0.004021176792157159</td><td>0.003629215089204772</td><td>0.0036620596076758524</td><td>0.003241417555106437</td><td>0.003510086719711667</td><td>0.003577694603900779</td><td>0.0036590750099886656</td><td>0.0035075735320976202</td><td>0.003262772831235093</td><td>...</td></tr><tr><td>&nbsp;</td><td>&nbsp;</td><td>&nbsp;</td><td>&nbsp;</td><td>&nbsp;</td><td>&nbsp;</td><td>&nbsp;</td><td><strong>ClassProbability_Oligos,Cycling</strong></td><td>0.0008492396681580167</td><td>0.0007789840343775811</td><td>0.0006912113968388298</td><td>0.0006999272936358772</td><td>0.0006582995831538452</td><td>0.000692705544945497</td><td>0.0007430570450894784</td><td>0.0007695432925836191</td><td>0.0007093656920054993</td><td>0.0007081109119086842</td><td>...</td></tr><tr><td>&nbsp;</td><td>&nbsp;</td><td>&nbsp;</td><td>&nbsp;</td><td>&nbsp;</td><td>&nbsp;</td><td>&nbsp;</td><td><strong>ClassProbability_Oligos,Vascular</strong></td><td>0.00044734236326048694</td><td>0.0003959615154809052</td><td>0.0003458461534185453</td><td>0.00035599865104449767</td><td>0.0003263037684400728</td><td>0.0003396006067486628</td><td>0.00038034640807156774</td><td>0.00040426687366851955</td><td>0.0003565833628555505</td><td>0.0003611263166656032</td><td>...</td></tr><tr><td>&nbsp;</td><td>&nbsp;</td><td>&nbsp;</td><td>&nbsp;</td><td>&nbsp;</td><td>&nbsp;</td><td>&nbsp;</td><td><strong>ClassProbability_Satellite-glia</strong></td><td>0.0003198394263748218</td><td>0.0002823588536054894</td><td>0.00026210771663682766</td><td>0.0002656090391901621</td><td>0.0002469711101888922</td><td>0.00025032057292416997</td><td>0.0002786549662178134</td><td>0.00028554749282341997</td><td>0.00026516051976470286</td><td>0.00026108750375122543</td><td>...</td></tr><tr><td>&nbsp;</td><td>&nbsp;</td><td>&nbsp;</td><td>&nbsp;</td><td>&nbsp;</td><td>&nbsp;</td><td>&nbsp;</td><td><strong>ClassProbability_Satellite-glia,Cycling</strong></td><td>0.00031143287757219053</td><td>0.0002722614721149537</td><td>0.0002320911708352696</td><td>0.0002409822937349214</td><td>0.00021680934266293675</td><td>0.0002275317176734654</td><td>0.00026284531002142666</td><td>0.00028134880754832563</td><td>0.000242000218188224</td><td>0.0002484659501323428</td><td>...</td></tr><tr><td>&nbsp;</td><td>&nbsp;</td><td>&nbsp;</td><td>&nbsp;</td><td>&nbsp;</td><td>&nbsp;</td><td>&nbsp;</td><td><strong>ClassProbability_Satellite-glia,Schwann</strong></td><td>0.000204879407444955</td><td>0.00017951044376732936</td><td>0.0001525469966284366</td><td>0.00015871598464544458</td><td>0.00014323729203419516</td><td>0.00015011282840564333</td><td>0.00017336895824917947</td><td>0.00018589579625749553</td><td>0.0001594853656834523</td><td>0.00016404846237627957</td><td>...</td></tr><tr><td>&nbsp;</td><td>&nbsp;</td><td>&nbsp;</td><td>&nbsp;</td><td>&nbsp;</td><td>&nbsp;</td><td>&nbsp;</td><td><strong>ClassProbability_Schwann</strong></td><td>0.0003018007082601168</td><td>0.000263412918037679</td><td>0.00022391286052999182</td><td>0.00023269471204325523</td><td>0.0002090192477423631</td><td>0.00021944489947869672</td><td>0.0002544092131019499</td><td>0.00027263737233490195</td><td>0.00023376437151241832</td><td>0.00024037985916786466</td><td>...</td></tr><tr><td>&nbsp;</td><td>&nbsp;</td><td>&nbsp;</td><td>&nbsp;</td><td>&nbsp;</td><td>&nbsp;</td><td>&nbsp;</td><td><strong>ClassProbability_Ttr</strong></td><td>0.002193334639829723</td><td>0.0017568948288843357</td><td>0.0014951906324907269</td><td>0.0015356311462925445</td><td>0.0013264012039518815</td><td>0.0014388724903934204</td><td>0.0015905669238582378</td><td>0.0017104055623614156</td><td>0.001495124947323497</td><td>0.00145068131476841</td><td>...</td></tr><tr><td>&nbsp;</td><td>&nbsp;</td><td>&nbsp;</td><td>&nbsp;</td><td>&nbsp;</td><td>&nbsp;</td><td>&nbsp;</td><td><strong>ClassProbability_Vascular</strong></td><td>0.003358493706775345</td><td>0.0022431832873399432</td><td>0.0018637399257799545</td><td>0.001899091783409728</td><td>0.0015866512079684655</td><td>0.0017575347748135983</td><td>0.0019228316641868618</td><td>0.0021262029420957874</td><td>0.0018058243252222716</td><td>0.0016987104436226007</td><td>...</td></tr><tr><td>&nbsp;</td><td>&nbsp;</td><td>&nbsp;</td><td>&nbsp;</td><td>&nbsp;</td><td>&nbsp;</td><td>&nbsp;</td><td><strong>ClusterName</strong></td><td>ENT9</td><td>ENT9</td><td>ENT9</td><td>ENT9</td><td>ENT9</td><td>ENT9</td><td>ENT9</td><td>ENT9</td><td>ENT9</td><td>ENT9</td><td>...</td></tr><tr><td>&nbsp;</td><td>&nbsp;</td><td>&nbsp;</td><td>&nbsp;</td><td>&nbsp;</td><td>&nbsp;</td><td>&nbsp;</td><td><strong>Clusters</strong></td><td>0</td><td>0</td><td>0</td><td>0</td><td>0</td><td>0</td><td>0</td><td>0</td><td>0</td><td>0</td><td>...</td></tr><tr><td>&nbsp;</td><td>&nbsp;</td><td>&nbsp;</td><td>&nbsp;</td><td>&nbsp;</td><td>&nbsp;</td><td>&nbsp;</td><td><strong>Comment</strong></td><td>Marklund cluster #1</td><td>Marklund cluster #1</td><td>Marklund cluster #1</td><td>Marklund cluster #1</td><td>Marklund cluster #1</td><td>Marklund cluster #1</td><td>Marklund cluster #1</td><td>Marklund cluster #1</td><td>Marklund cluster #1</td><td>Marklund cluster #1</td><td>...</td></tr><tr><td>&nbsp;</td><td>&nbsp;</td><td>&nbsp;</td><td>&nbsp;</td><td>&nbsp;</td><td>&nbsp;</td><td>&nbsp;</td><td><strong>Comments</strong></td><td>Wnt1 FACS (CMB), quite healthy suspension. Emulsion fine.</td><td>Wnt1 FACS (CMB), quite healthy suspension. Emulsion fine.</td><td>Wnt1 FACS (CMB), quite healthy suspension. Emulsion fine.</td><td>Wnt1 FACS (CMB), quite healthy suspension. Emulsion fine.</td><td>Wnt1 FACS (CMB), quite healthy suspension. Emulsion fine.</td><td>Wnt1 FACS (CMB), quite healthy suspension. Emulsion fine.</td><td>Wnt1 FACS (CMB), strong fluorescence and quite healthy suspension. Emulsions fine.</td><td>Wnt1 FACS (CMB), strong fluorescence and quite healthy suspension. Emulsions fine.</td><td>Wnt1 FACS (CMB), quite healthy suspension. Emulsion fine.</td><td>Wnt1 FACS (CMB), strong fluorescence and quite healthy suspension. Emulsions fine.</td><td>...</td></tr><tr><td>&nbsp;</td><td>&nbsp;</td><td>&nbsp;</td><td>&nbsp;</td><td>&nbsp;</td><td>&nbsp;</td><td>&nbsp;</td><td><strong>DateCaptured</strong></td><td>2017-04-06 00:00:00</td><td>2017-04-06 00:00:00</td><td>2017-04-06 00:00:00</td><td>2017-04-06 00:00:00</td><td>2017-04-06 00:00:00</td><td>2017-04-06 00:00:00</td><td>2017-04-04 00:00:00</td><td>2017-04-04 00:00:00</td><td>2017-04-06 00:00:00</td><td>2017-04-04 00:00:00</td><td>...</td></tr><tr><td>&nbsp;</td><td>&nbsp;</td><td>&nbsp;</td><td>&nbsp;</td><td>&nbsp;</td><td>&nbsp;</td><td>&nbsp;</td><td><strong>Date_Captured</strong></td><td>2017-04-06</td><td>2017-04-06</td><td>2017-04-06</td><td>2017-04-06</td><td>2017-04-06</td><td>2017-04-06</td><td>2017-04-04</td><td>2017-04-04</td><td>2017-04-06</td><td>2017-04-04</td><td>...</td></tr><tr><td>&nbsp;</td><td>&nbsp;</td><td>&nbsp;</td><td>&nbsp;</td><td>&nbsp;</td><td>&nbsp;</td><td>&nbsp;</td><td><strong>Description</strong></td><td>Cholinergic enteric neurons</td><td>Cholinergic enteric neurons</td><td>Cholinergic enteric neurons</td><td>Cholinergic enteric neurons</td><td>Cholinergic enteric neurons</td><td>Cholinergic enteric neurons</td><td>Cholinergic enteric neurons</td><td>Cholinergic enteric neurons</td><td>Cholinergic enteric neurons</td><td>Cholinergic enteric neurons</td><td>...</td></tr><tr><td>&nbsp;</td><td>&nbsp;</td><td>&nbsp;</td><td>&nbsp;</td><td>&nbsp;</td><td>&nbsp;</td><td>&nbsp;</td><td><strong>Developmental_compartment</strong></td><td>Neural crest</td><td>Neural crest</td><td>Neural crest</td><td>Neural crest</td><td>Neural crest</td><td>Neural crest</td><td>Neural crest</td><td>Neural crest</td><td>Neural crest</td><td>Neural crest</td><td>...</td></tr><tr><td>&nbsp;</td><td>&nbsp;</td><td>&nbsp;</td><td>&nbsp;</td><td>&nbsp;</td><td>&nbsp;</td><td>&nbsp;</td><td><strong>DonorID</strong></td><td>nan</td><td>nan</td><td>nan</td><td>nan</td><td>nan</td><td>nan</td><td>nan</td><td>nan</td><td>nan</td><td>nan</td><td>...</td></tr><tr><td>&nbsp;</td><td>&nbsp;</td><td>&nbsp;</td><td>&nbsp;</td><td>&nbsp;</td><td>&nbsp;</td><td>&nbsp;</td><td><strong>Estimated Number of Cells</strong></td><td>4,374</td><td>4,374</td><td>4,374</td><td>4,374</td><td>4,374</td><td>4,374</td><td>4,237</td><td>4,508</td><td>4,374</td><td>4,237</td><td>...</td></tr><tr><td>&nbsp;</td><td>&nbsp;</td><td>&nbsp;</td><td>&nbsp;</td><td>&nbsp;</td><td>&nbsp;</td><td>&nbsp;</td><td><strong>Flowcell</strong></td><td>HJJTVBBXX</td><td>HJJTVBBXX</td><td>HJJTVBBXX</td><td>HJJTVBBXX</td><td>HJJTVBBXX</td><td>HJJTVBBXX</td><td>HJJTVBBXX</td><td>HJJTVBBXX</td><td>HJJTVBBXX</td><td>HJJTVBBXX</td><td>...</td></tr><tr><td>&nbsp;</td><td>&nbsp;</td><td>&nbsp;</td><td>&nbsp;</td><td>&nbsp;</td><td>&nbsp;</td><td>&nbsp;</td><td><strong>Fraction Reads in Cells</strong></td><td>67.9%</td><td>67.9%</td><td>67.9%</td><td>67.9%</td><td>67.9%</td><td>67.9%</td><td>86.4%</td><td>86.3%</td><td>67.9%</td><td>86.4%</td><td>...</td></tr><tr><td>&nbsp;</td><td>&nbsp;</td><td>&nbsp;</td><td>&nbsp;</td><td>&nbsp;</td><td>&nbsp;</td><td>&nbsp;</td><td><strong>Label</strong></td><td></td><td></td><td></td><td></td><td></td><td></td><td></td><td></td><td></td><td></td><td>...</td></tr><tr><td>&nbsp;</td><td>&nbsp;</td><td>&nbsp;</td><td>&nbsp;</td><td>&nbsp;</td><td>&nbsp;</td><td>&nbsp;</td><td><strong>LeafOrder</strong></td><td>190</td><td>190</td><td>190</td><td>190</td><td>190</td><td>190</td><td>190</td><td>190</td><td>190</td><td>190</td><td>...</td></tr><tr><td>&nbsp;</td><td>&nbsp;</td><td>&nbsp;</td><td>&nbsp;</td><td>&nbsp;</td><td>&nbsp;</td><td>&nbsp;</td><td><strong>Location_based_on</strong></td><td>Vip,Cck</td><td>Vip,Cck</td><td>Vip,Cck</td><td>Vip,Cck</td><td>Vip,Cck</td><td>Vip,Cck</td><td>Vip,Cck</td><td>Vip,Cck</td><td>Vip,Cck</td><td>Vip,Cck</td><td>...</td></tr><tr><td>&nbsp;</td><td>&nbsp;</td><td>&nbsp;</td><td>&nbsp;</td><td>&nbsp;</td><td>&nbsp;</td><td>&nbsp;</td><td><strong>Mean Reads per Cell</strong></td><td>42,629</td><td>42,629</td><td>42,629</td><td>42,629</td><td>42,629</td><td>42,629</td><td>38,601</td><td>52,152</td><td>42,629</td><td>38,601</td><td>...</td></tr><tr><td>&nbsp;</td><td>&nbsp;</td><td>&nbsp;</td><td>&nbsp;</td><td>&nbsp;</td><td>&nbsp;</td><td>&nbsp;</td><td><strong>Median Genes per Cell</strong></td><td>1,474</td><td>1,474</td><td>1,474</td><td>1,474</td><td>1,474</td><td>1,474</td><td>1,464</td><td>1,441</td><td>1,474</td><td>1,464</td><td>...</td></tr><tr><td>&nbsp;</td><td>&nbsp;</td><td>&nbsp;</td><td>&nbsp;</td><td>&nbsp;</td><td>&nbsp;</td><td>&nbsp;</td><td><strong>Median UMI Counts per Cell</strong></td><td>2,967</td><td>2,967</td><td>2,967</td><td>2,967</td><td>2,967</td><td>2,967</td><td>2,943</td><td>2,850</td><td>2,967</td><td>2,943</td><td>...</td></tr><tr><td>&nbsp;</td><td>&nbsp;</td><td>&nbsp;</td><td>&nbsp;</td><td>&nbsp;</td><td>&nbsp;</td><td>&nbsp;</td><td><strong>MitoRiboRatio</strong></td><td>0.7716325</td><td>0.57526696</td><td>0.4877193</td><td>0.53085184</td><td>0.69559526</td><td>0.71948695</td><td>0.82857144</td><td>5.344262</td><td>0.5333985</td><td>0.4720859</td><td>...</td></tr><tr><td>&nbsp;</td><td>&nbsp;</td><td>&nbsp;</td><td>&nbsp;</td><td>&nbsp;</td><td>&nbsp;</td><td>&nbsp;</td><td><strong>NGI_PlateWell</strong></td><td></td><td></td><td></td><td></td><td></td><td></td><td></td><td></td><td></td><td></td><td>...</td></tr><tr><td>&nbsp;</td><td>&nbsp;</td><td>&nbsp;</td><td>&nbsp;</td><td>&nbsp;</td><td>&nbsp;</td><td>&nbsp;</td><td><strong>Neurotransmitter</strong></td><td>Acetylcholine</td><td>Acetylcholine</td><td>Acetylcholine</td><td>Acetylcholine</td><td>Acetylcholine</td><td>Acetylcholine</td><td>Acetylcholine</td><td>Acetylcholine</td><td>Acetylcholine</td><td>Acetylcholine</td><td>...</td></tr><tr><td>&nbsp;</td><td>&nbsp;</td><td>&nbsp;</td><td>&nbsp;</td><td>&nbsp;</td><td>&nbsp;</td><td>&nbsp;</td><td><strong>NumPooledAnimals</strong></td><td>2.0</td><td>2.0</td><td>2.0</td><td>2.0</td><td>2.0</td><td>2.0</td><td>2.0</td><td>2.0</td><td>2.0</td><td>2.0</td><td>...</td></tr><tr><td>&nbsp;</td><td>&nbsp;</td><td>&nbsp;</td><td>&nbsp;</td><td>&nbsp;</td><td>&nbsp;</td><td>&nbsp;</td><td><strong>Num_Pooled_Animals</strong></td><td>2</td><td>2</td><td>2</td><td>2</td><td>2</td><td>2</td><td>2</td><td>2</td><td>2</td><td>2</td><td>...</td></tr><tr><td>&nbsp;</td><td>&nbsp;</td><td>&nbsp;</td><td>&nbsp;</td><td>&nbsp;</td><td>&nbsp;</td><td>&nbsp;</td><td><strong>Number of Reads</strong></td><td>186,462,928</td><td>186,462,928</td><td>186,462,928</td><td>186,462,928</td><td>186,462,928</td><td>186,462,928</td><td>163,555,774</td><td>235,102,264</td><td>186,462,928</td><td>163,555,774</td><td>...</td></tr><tr><td>&nbsp;</td><td>&nbsp;</td><td>&nbsp;</td><td>&nbsp;</td><td>&nbsp;</td><td>&nbsp;</td><td>&nbsp;</td><td><strong>OriginalClusters</strong></td><td>8</td><td>8</td><td>8</td><td>8</td><td>8</td><td>8</td><td>8</td><td>8</td><td>8</td><td>8</td><td>...</td></tr><tr><td>&nbsp;</td><td>&nbsp;</td><td>&nbsp;</td><td>&nbsp;</td><td>&nbsp;</td><td>&nbsp;</td><td>&nbsp;</td><td><strong>Outliers</strong></td><td>0</td><td>0</td><td>0</td><td>0</td><td>0</td><td>0</td><td>0</td><td>0</td><td>0</td><td>0</td><td>...</td></tr><tr><td>&nbsp;</td><td>&nbsp;</td><td>&nbsp;</td><td>&nbsp;</td><td>&nbsp;</td><td>&nbsp;</td><td>&nbsp;</td><td><strong>PCRCycles</strong></td><td>13.0</td><td>13.0</td><td>13.0</td><td>13.0</td><td>13.0</td><td>13.0</td><td>13.0</td><td>13.0</td><td>13.0</td><td>13.0</td><td>...</td></tr><tr><td>&nbsp;</td><td>&nbsp;</td><td>&nbsp;</td><td>&nbsp;</td><td>&nbsp;</td><td>&nbsp;</td><td>&nbsp;</td><td><strong>PCR_Cycles</strong></td><td>13</td><td>13</td><td>13</td><td>13</td><td>13</td><td>13</td><td>13</td><td>13</td><td>13</td><td>13</td><td>...</td></tr><tr><td>&nbsp;</td><td>&nbsp;</td><td>&nbsp;</td><td>&nbsp;</td><td>&nbsp;</td><td>&nbsp;</td><td>&nbsp;</td><td><strong>PassedQC</strong></td><td>OK</td><td>OK</td><td>OK</td><td>OK</td><td>OK</td><td>OK</td><td>OK</td><td>OK</td><td>OK</td><td>OK</td><td>...</td></tr><tr><td>&nbsp;</td><td>&nbsp;</td><td>&nbsp;</td><td>&nbsp;</td><td>&nbsp;</td><td>&nbsp;</td><td>&nbsp;</td><td><strong>PlugDate</strong></td><td>NaT</td><td>NaT</td><td>NaT</td><td>NaT</td><td>NaT</td><td>NaT</td><td>NaT</td><td>NaT</td><td>NaT</td><td>NaT</td><td>...</td></tr><tr><td>&nbsp;</td><td>&nbsp;</td><td>&nbsp;</td><td>&nbsp;</td><td>&nbsp;</td><td>&nbsp;</td><td>&nbsp;</td><td><strong>Plug_Date</strong></td><td></td><td></td><td></td><td></td><td></td><td></td><td></td><td></td><td></td><td></td><td>...</td></tr><tr><td>&nbsp;</td><td>&nbsp;</td><td>&nbsp;</td><td>&nbsp;</td><td>&nbsp;</td><td>&nbsp;</td><td>&nbsp;</td><td><strong>Probable_location</strong></td><td>Myenteric plexus of small intestine</td><td>Myenteric plexus of small intestine</td><td>Myenteric plexus of small intestine</td><td>Myenteric plexus of small intestine</td><td>Myenteric plexus of small intestine</td><td>Myenteric plexus of small intestine</td><td>Myenteric plexus of small intestine</td><td>Myenteric plexus of small intestine</td><td>Myenteric plexus of small intestine</td><td>Myenteric plexus of small intestine</td><td>...</td></tr><tr><td>&nbsp;</td><td>&nbsp;</td><td>&nbsp;</td><td>&nbsp;</td><td>&nbsp;</td><td>&nbsp;</td><td>&nbsp;</td><td><strong>Project</strong></td><td>Adolescent</td><td>Adolescent</td><td>Adolescent</td><td>Adolescent</td><td>Adolescent</td><td>Adolescent</td><td>Adolescent</td><td>Adolescent</td><td>Adolescent</td><td>Adolescent</td><td>...</td></tr><tr><td>&nbsp;</td><td>&nbsp;</td><td>&nbsp;</td><td>&nbsp;</td><td>&nbsp;</td><td>&nbsp;</td><td>&nbsp;</td><td><strong>Q30 Bases in Barcode</strong></td><td>98.5%</td><td>98.5%</td><td>98.5%</td><td>98.5%</td><td>98.5%</td><td>98.5%</td><td>98.5%</td><td>98.5%</td><td>98.5%</td><td>98.5%</td><td>...</td></tr><tr><td>&nbsp;</td><td>&nbsp;</td><td>&nbsp;</td><td>&nbsp;</td><td>&nbsp;</td><td>&nbsp;</td><td>&nbsp;</td><td><strong>Q30 Bases in RNA Read</strong></td><td>86.6%</td><td>86.6%</td><td>86.6%</td><td>86.6%</td><td>86.6%</td><td>86.6%</td><td>86.3%</td><td>86.1%</td><td>86.6%</td><td>86.3%</td><td>...</td></tr><tr><td>&nbsp;</td><td>&nbsp;</td><td>&nbsp;</td><td>&nbsp;</td><td>&nbsp;</td><td>&nbsp;</td><td>&nbsp;</td><td><strong>Q30 Bases in Sample Index</strong></td><td>97.1%</td><td>97.1%</td><td>97.1%</td><td>97.1%</td><td>97.1%</td><td>97.1%</td><td>96.9%</td><td>96.4%</td><td>97.1%</td><td>96.9%</td><td>...</td></tr><tr><td>&nbsp;</td><td>&nbsp;</td><td>&nbsp;</td><td>&nbsp;</td><td>&nbsp;</td><td>&nbsp;</td><td>&nbsp;</td><td><strong>Q30 Bases in UMI</strong></td><td>98.5%</td><td>98.5%</td><td>98.5%</td><td>98.5%</td><td>98.5%</td><td>98.5%</td><td>98.5%</td><td>98.5%</td><td>98.5%</td><td>98.5%</td><td>...</td></tr><tr><td>&nbsp;</td><td>&nbsp;</td><td>&nbsp;</td><td>&nbsp;</td><td>&nbsp;</td><td>&nbsp;</td><td>&nbsp;</td><td><strong>Reads Mapped Confidently to Exonic Regions</strong></td><td>60.1%</td><td>60.1%</td><td>60.1%</td><td>60.1%</td><td>60.1%</td><td>60.1%</td><td>56.2%</td><td>56.2%</td><td>60.1%</td><td>56.2%</td><td>...</td></tr><tr><td>&nbsp;</td><td>&nbsp;</td><td>&nbsp;</td><td>&nbsp;</td><td>&nbsp;</td><td>&nbsp;</td><td>&nbsp;</td><td><strong>Reads Mapped Confidently to Intergenic Regions</strong></td><td>9.3%</td><td>9.3%</td><td>9.3%</td><td>9.3%</td><td>9.3%</td><td>9.3%</td><td>9.4%</td><td>9.4%</td><td>9.3%</td><td>9.4%</td><td>...</td></tr><tr><td>&nbsp;</td><td>&nbsp;</td><td>&nbsp;</td><td>&nbsp;</td><td>&nbsp;</td><td>&nbsp;</td><td>&nbsp;</td><td><strong>Reads Mapped Confidently to Intronic Regions</strong></td><td>22.9%</td><td>22.9%</td><td>22.9%</td><td>22.9%</td><td>22.9%</td><td>22.9%</td><td>26.1%</td><td>26.5%</td><td>22.9%</td><td>26.1%</td><td>...</td></tr><tr><td>&nbsp;</td><td>&nbsp;</td><td>&nbsp;</td><td>&nbsp;</td><td>&nbsp;</td><td>&nbsp;</td><td>&nbsp;</td><td><strong>Reads Mapped Confidently to Transcriptome</strong></td><td>56.5%</td><td>56.5%</td><td>56.5%</td><td>56.5%</td><td>56.5%</td><td>56.5%</td><td>52.5%</td><td>52.6%</td><td>56.5%</td><td>52.5%</td><td>...</td></tr><tr><td>&nbsp;</td><td>&nbsp;</td><td>&nbsp;</td><td>&nbsp;</td><td>&nbsp;</td><td>&nbsp;</td><td>&nbsp;</td><td><strong>Region</strong></td><td>Enteric nervous system</td><td>Enteric nervous system</td><td>Enteric nervous system</td><td>Enteric nervous system</td><td>Enteric nervous system</td><td>Enteric nervous system</td><td>Enteric nervous system</td><td>Enteric nervous system</td><td>Enteric nervous system</td><td>Enteric nervous system</td><td>...</td></tr><tr><td>&nbsp;</td><td>&nbsp;</td><td>&nbsp;</td><td>&nbsp;</td><td>&nbsp;</td><td>&nbsp;</td><td>&nbsp;</td><td><strong>SampleID</strong></td><td>10X82_2</td><td>10X82_2</td><td>10X82_2</td><td>10X82_2</td><td>10X82_2</td><td>10X82_2</td><td>10X81_2</td><td>10X81_3</td><td>10X82_2</td><td>10X81_2</td><td>...</td></tr><tr><td>&nbsp;</td><td>&nbsp;</td><td>&nbsp;</td><td>&nbsp;</td><td>&nbsp;</td><td>&nbsp;</td><td>&nbsp;</td><td><strong>SampleIndex</strong></td><td>SI-GA-G5</td><td>SI-GA-G5</td><td>SI-GA-G5</td><td>SI-GA-G5</td><td>SI-GA-G5</td><td>SI-GA-G5</td><td>SI-GA-D5</td><td>SI-GA-E5</td><td>SI-GA-G5</td><td>SI-GA-D5</td><td>...</td></tr><tr><td>&nbsp;</td><td>&nbsp;</td><td>&nbsp;</td><td>&nbsp;</td><td>&nbsp;</td><td>&nbsp;</td><td>&nbsp;</td><td><strong>SampleOK</strong></td><td></td><td></td><td></td><td></td><td></td><td></td><td></td><td></td><td></td><td></td><td>...</td></tr><tr><td>&nbsp;</td><td>&nbsp;</td><td>&nbsp;</td><td>&nbsp;</td><td>&nbsp;</td><td>&nbsp;</td><td>&nbsp;</td><td><strong>Sample_Index</strong></td><td></td><td></td><td></td><td></td><td></td><td></td><td></td><td></td><td></td><td></td><td>...</td></tr><tr><td>&nbsp;</td><td>&nbsp;</td><td>&nbsp;</td><td>&nbsp;</td><td>&nbsp;</td><td>&nbsp;</td><td>&nbsp;</td><td><strong>SeqComment</strong></td><td>nan</td><td>nan</td><td>nan</td><td>nan</td><td>nan</td><td>nan</td><td>nan</td><td>nan</td><td>nan</td><td>nan</td><td>...</td></tr><tr><td>&nbsp;</td><td>&nbsp;</td><td>&nbsp;</td><td>&nbsp;</td><td>&nbsp;</td><td>&nbsp;</td><td>&nbsp;</td><td><strong>SeqLibDate</strong></td><td>NaT</td><td>NaT</td><td>NaT</td><td>NaT</td><td>NaT</td><td>NaT</td><td>NaT</td><td>NaT</td><td>NaT</td><td>NaT</td><td>...</td></tr><tr><td>&nbsp;</td><td>&nbsp;</td><td>&nbsp;</td><td>&nbsp;</td><td>&nbsp;</td><td>&nbsp;</td><td>&nbsp;</td><td><strong>SeqLibOk</strong></td><td>nan</td><td>nan</td><td>nan</td><td>nan</td><td>nan</td><td>nan</td><td>nan</td><td>nan</td><td>nan</td><td>nan</td><td>...</td></tr><tr><td>&nbsp;</td><td>&nbsp;</td><td>&nbsp;</td><td>&nbsp;</td><td>&nbsp;</td><td>&nbsp;</td><td>&nbsp;</td><td><strong>Seq_Comment</strong></td><td></td><td></td><td></td><td></td><td></td><td></td><td></td><td></td><td></td><td></td><td>...</td></tr><tr><td>&nbsp;</td><td>&nbsp;</td><td>&nbsp;</td><td>&nbsp;</td><td>&nbsp;</td><td>&nbsp;</td><td>&nbsp;</td><td><strong>Seq_Lib_Date</strong></td><td></td><td></td><td></td><td></td><td></td><td></td><td></td><td></td><td></td><td></td><td>...</td></tr><tr><td>&nbsp;</td><td>&nbsp;</td><td>&nbsp;</td><td>&nbsp;</td><td>&nbsp;</td><td>&nbsp;</td><td>&nbsp;</td><td><strong>Seq_Lib_Ok</strong></td><td></td><td></td><td></td><td></td><td></td><td></td><td></td><td></td><td></td><td></td><td>...</td></tr><tr><td>&nbsp;</td><td>&nbsp;</td><td>&nbsp;</td><td>&nbsp;</td><td>&nbsp;</td><td>&nbsp;</td><td>&nbsp;</td><td><strong>Sequencing Saturation</strong></td><td>74.7%</td><td>74.7%</td><td>74.7%</td><td>74.7%</td><td>74.7%</td><td>74.7%</td><td>77.8%</td><td>83.5%</td><td>74.7%</td><td>77.8%</td><td>...</td></tr><tr><td>&nbsp;</td><td>&nbsp;</td><td>&nbsp;</td><td>&nbsp;</td><td>&nbsp;</td><td>&nbsp;</td><td>&nbsp;</td><td><strong>Serial_Number</strong></td><td>321</td><td>321</td><td>321</td><td>321</td><td>321</td><td>321</td><td>318</td><td>319</td><td>321</td><td>318</td><td>...</td></tr><tr><td>&nbsp;</td><td>&nbsp;</td><td>&nbsp;</td><td>&nbsp;</td><td>&nbsp;</td><td>&nbsp;</td><td>&nbsp;</td><td><strong>Sex</strong></td><td>1M 1F</td><td>1M 1F</td><td>1M 1F</td><td>1M 1F</td><td>1M 1F</td><td>1M 1F</td><td>1M 1F</td><td>1M 1F</td><td>1M 1F</td><td>1M 1F</td><td>...</td></tr><tr><td>&nbsp;</td><td>&nbsp;</td><td>&nbsp;</td><td>&nbsp;</td><td>&nbsp;</td><td>&nbsp;</td><td>&nbsp;</td><td><strong>Species</strong></td><td>Mm</td><td>Mm</td><td>Mm</td><td>Mm</td><td>Mm</td><td>Mm</td><td>Mm</td><td>Mm</td><td>Mm</td><td>Mm</td><td>...</td></tr><tr><td>&nbsp;</td><td>&nbsp;</td><td>&nbsp;</td><td>&nbsp;</td><td>&nbsp;</td><td>&nbsp;</td><td>&nbsp;</td><td><strong>Strain</strong></td><td>Wnt1Cre-R26Rtomato-C57BL/6J</td><td>Wnt1Cre-R26Rtomato-C57BL/6J</td><td>Wnt1Cre-R26Rtomato-C57BL/6J</td><td>Wnt1Cre-R26Rtomato-C57BL/6J</td><td>Wnt1Cre-R26Rtomato-C57BL/6J</td><td>Wnt1Cre-R26Rtomato-C57BL/6J</td><td>Wnt1Cre-R26Rtomato-C57BL/6J</td><td>Wnt1Cre-R26Rtomato-C57BL/6J</td><td>Wnt1Cre-R26Rtomato-C57BL/6J</td><td>Wnt1Cre-R26Rtomato-C57BL/6J</td><td>...</td></tr><tr><td>&nbsp;</td><td>&nbsp;</td><td>&nbsp;</td><td>&nbsp;</td><td>&nbsp;</td><td>&nbsp;</td><td>&nbsp;</td><td><strong>Subclass</strong></td><td>Neurons</td><td>Neurons</td><td>Neurons</td><td>Neurons</td><td>Neurons</td><td>Neurons</td><td>Neurons</td><td>Neurons</td><td>Neurons</td><td>Neurons</td><td>...</td></tr><tr><td>&nbsp;</td><td>&nbsp;</td><td>&nbsp;</td><td>&nbsp;</td><td>&nbsp;</td><td>&nbsp;</td><td>&nbsp;</td><td><strong>TargetNumCells</strong></td><td>5000</td><td>5000</td><td>5000</td><td>5000</td><td>5000</td><td>5000</td><td>5000</td><td>5000</td><td>5000</td><td>5000</td><td>...</td></tr><tr><td>&nbsp;</td><td>&nbsp;</td><td>&nbsp;</td><td>&nbsp;</td><td>&nbsp;</td><td>&nbsp;</td><td>&nbsp;</td><td><strong>Target_Num_Cells</strong></td><td>5000</td><td>5000</td><td>5000</td><td>5000</td><td>5000</td><td>5000</td><td>5000</td><td>5000</td><td>5000</td><td>5000</td><td>...</td></tr><tr><td>&nbsp;</td><td>&nbsp;</td><td>&nbsp;</td><td>&nbsp;</td><td>&nbsp;</td><td>&nbsp;</td><td>&nbsp;</td><td><strong>TaxonomyRank1</strong></td><td>Neurons</td><td>Neurons</td><td>Neurons</td><td>Neurons</td><td>Neurons</td><td>Neurons</td><td>Neurons</td><td>Neurons</td><td>Neurons</td><td>Neurons</td><td>...</td></tr><tr><td>&nbsp;</td><td>&nbsp;</td><td>&nbsp;</td><td>&nbsp;</td><td>&nbsp;</td><td>&nbsp;</td><td>&nbsp;</td><td><strong>TaxonomyRank2</strong></td><td>PNS neurons</td><td>PNS neurons</td><td>PNS neurons</td><td>PNS neurons</td><td>PNS neurons</td><td>PNS neurons</td><td>PNS neurons</td><td>PNS neurons</td><td>PNS neurons</td><td>PNS neurons</td><td>...</td></tr><tr><td>&nbsp;</td><td>&nbsp;</td><td>&nbsp;</td><td>&nbsp;</td><td>&nbsp;</td><td>&nbsp;</td><td>&nbsp;</td><td><strong>TaxonomyRank3</strong></td><td>Enteric neurons</td><td>Enteric neurons</td><td>Enteric neurons</td><td>Enteric neurons</td><td>Enteric neurons</td><td>Enteric neurons</td><td>Enteric neurons</td><td>Enteric neurons</td><td>Enteric neurons</td><td>Enteric neurons</td><td>...</td></tr><tr><td>&nbsp;</td><td>&nbsp;</td><td>&nbsp;</td><td>&nbsp;</td><td>&nbsp;</td><td>&nbsp;</td><td>&nbsp;</td><td><strong>TaxonomyRank4</strong></td><td>Enteric neurons</td><td>Enteric neurons</td><td>Enteric neurons</td><td>Enteric neurons</td><td>Enteric neurons</td><td>Enteric neurons</td><td>Enteric neurons</td><td>Enteric neurons</td><td>Enteric neurons</td><td>Enteric neurons</td><td>...</td></tr><tr><td>&nbsp;</td><td>&nbsp;</td><td>&nbsp;</td><td>&nbsp;</td><td>&nbsp;</td><td>&nbsp;</td><td>&nbsp;</td><td><strong>TaxonomySymbol</strong></td><td>Enne</td><td>Enne</td><td>Enne</td><td>Enne</td><td>Enne</td><td>Enne</td><td>Enne</td><td>Enne</td><td>Enne</td><td>Enne</td><td>...</td></tr><tr><td>&nbsp;</td><td>&nbsp;</td><td>&nbsp;</td><td>&nbsp;</td><td>&nbsp;</td><td>&nbsp;</td><td>&nbsp;</td><td><strong>Taxonomy_group</strong></td><td>Enteric neurons</td><td>Enteric neurons</td><td>Enteric neurons</td><td>Enteric neurons</td><td>Enteric neurons</td><td>Enteric neurons</td><td>Enteric neurons</td><td>Enteric neurons</td><td>Enteric neurons</td><td>Enteric neurons</td><td>...</td></tr><tr><td>&nbsp;</td><td>&nbsp;</td><td>&nbsp;</td><td>&nbsp;</td><td>&nbsp;</td><td>&nbsp;</td><td>&nbsp;</td><td><strong>TimepointPool</strong></td><td>nan</td><td>nan</td><td>nan</td><td>nan</td><td>nan</td><td>nan</td><td>nan</td><td>nan</td><td>nan</td><td>nan</td><td>...</td></tr><tr><td>&nbsp;</td><td>&nbsp;</td><td>&nbsp;</td><td>&nbsp;</td><td>&nbsp;</td><td>&nbsp;</td><td>&nbsp;</td><td><strong>Tissue</strong></td><td>ENS</td><td>ENS</td><td>ENS</td><td>ENS</td><td>ENS</td><td>ENS</td><td>ENS</td><td>ENS</td><td>ENS</td><td>ENS</td><td>...</td></tr><tr><td>&nbsp;</td><td>&nbsp;</td><td>&nbsp;</td><td>&nbsp;</td><td>&nbsp;</td><td>&nbsp;</td><td>&nbsp;</td><td><strong>Total Genes Detected</strong></td><td>18,120</td><td>18,120</td><td>18,120</td><td>18,120</td><td>18,120</td><td>18,120</td><td>18,168</td><td>18,252</td><td>18,120</td><td>18,168</td><td>...</td></tr><tr><td>&nbsp;</td><td>&nbsp;</td><td>&nbsp;</td><td>&nbsp;</td><td>&nbsp;</td><td>&nbsp;</td><td>&nbsp;</td><td><strong>Transcriptome</strong></td><td>mm10</td><td>mm10</td><td>mm10</td><td>mm10</td><td>mm10</td><td>mm10</td><td>mm10</td><td>mm10</td><td>mm10</td><td>mm10</td><td>...</td></tr><tr><td>&nbsp;</td><td>&nbsp;</td><td>&nbsp;</td><td>&nbsp;</td><td>&nbsp;</td><td>&nbsp;</td><td>&nbsp;</td><td><strong>Valid Barcodes</strong></td><td>98.3%</td><td>98.3%</td><td>98.3%</td><td>98.3%</td><td>98.3%</td><td>98.3%</td><td>98.1%</td><td>98.2%</td><td>98.3%</td><td>98.1%</td><td>...</td></tr><tr><td>&nbsp;</td><td>&nbsp;</td><td>&nbsp;</td><td>&nbsp;</td><td>&nbsp;</td><td>&nbsp;</td><td>&nbsp;</td><td><strong>_KMeans_10</strong></td><td>6.0</td><td>6.0</td><td>6.0</td><td>6.0</td><td>6.0</td><td>6.0</td><td>4.0</td><td>5.0</td><td>6.0</td><td>4.0</td><td>...</td></tr><tr><td>&nbsp;</td><td>&nbsp;</td><td>&nbsp;</td><td>&nbsp;</td><td>&nbsp;</td><td>&nbsp;</td><td>&nbsp;</td><td><strong>_LogCV</strong></td><td>3.1908913783603063</td><td>3.167351500625122</td><td>2.9904214870833776</td><td>2.822815534443724</td><td>3.1277965891473065</td><td>3.3192176319142175</td><td>3.1989066144208227</td><td>3.948901530102022</td><td>2.987633061728192</td><td>2.7924016918290224</td><td>...</td></tr><tr><td>&nbsp;</td><td>&nbsp;</td><td>&nbsp;</td><td>&nbsp;</td><td>&nbsp;</td><td>&nbsp;</td><td>&nbsp;</td><td><strong>_LogMean</strong></td><td>-0.5543971870580796</td><td>-0.37315747486311507</td><td>-0.5170486762369298</td><td>0.13549715551603134</td><td>-0.7693425700796889</td><td>-0.8472036311342495</td><td>0.09491819394568078</td><td>-1.839529951096004</td><td>-0.3916284152311094</td><td>-0.07818856623038073</td><td>...</td></tr><tr><td>&nbsp;</td><td>&nbsp;</td><td>&nbsp;</td><td>&nbsp;</td><td>&nbsp;</td><td>&nbsp;</td><td>&nbsp;</td><td><strong>_NGenes</strong></td><td>4966.0</td><td>5170.0</td><td>4901.0</td><td>6163.0</td><td>4441.0</td><td>4177.0</td><td>6291.0</td><td>3194.0</td><td>5096.0</td><td>6286.0</td><td>...</td></tr><tr><td>&nbsp;</td><td>&nbsp;</td><td>&nbsp;</td><td>&nbsp;</td><td>&nbsp;</td><td>&nbsp;</td><td>&nbsp;</td><td><strong>_PC1</strong></td><td>-65.27535421448539</td><td>-68.95510759143025</td><td>-65.23438872542643</td><td>-71.94204482687141</td><td>-61.80121557714286</td><td>-60.24304904777661</td><td>95.32222226357811</td><td>85.61136680508369</td><td>-66.45551994815037</td><td>84.01459919133823</td><td>...</td></tr><tr><td>&nbsp;</td><td>&nbsp;</td><td>&nbsp;</td><td>&nbsp;</td><td>&nbsp;</td><td>&nbsp;</td><td>&nbsp;</td><td><strong>_PC2</strong></td><td>-6.920831125319342</td><td>-6.064292802219843</td><td>-7.719227989659785</td><td>-9.778616706469663</td><td>-5.362512208402256</td><td>-4.087377717670975</td><td>-1.1779252488682292</td><td>0.3861744167498913</td><td>-7.2672667231519945</td><td>-1.4644867037545195</td><td>...</td></tr><tr><td>&nbsp;</td><td>&nbsp;</td><td>&nbsp;</td><td>&nbsp;</td><td>&nbsp;</td><td>&nbsp;</td><td>&nbsp;</td><td><strong>_Total</strong></td><td>19065.0</td><td>21617.0</td><td>19565.0</td><td>30755.0</td><td>16426.0</td><td>15563.0</td><td>29902.0</td><td>7823.0</td><td>21342.0</td><td>26521.0</td><td>...</td></tr><tr><td>&nbsp;</td><td>&nbsp;</td><td>&nbsp;</td><td>&nbsp;</td><td>&nbsp;</td><td>&nbsp;</td><td>&nbsp;</td><td><strong>_Valid</strong></td><td>1</td><td>1</td><td>1</td><td>1</td><td>1</td><td>1</td><td>1</td><td>1</td><td>1</td><td>1</td><td>...</td></tr><tr><td>&nbsp;</td><td>&nbsp;</td><td>&nbsp;</td><td>&nbsp;</td><td>&nbsp;</td><td>&nbsp;</td><td>&nbsp;</td><td><strong>_X</strong></td><td>32.19324891399081</td><td>32.22355098229663</td><td>32.218911527247535</td><td>32.18716616749913</td><td>32.25464658453466</td><td>32.19684108148269</td><td>32.22388887448665</td><td>32.941288813217824</td><td>32.245982009961985</td><td>32.151367314515</td><td>...</td></tr><tr><td>&nbsp;</td><td>&nbsp;</td><td>&nbsp;</td><td>&nbsp;</td><td>&nbsp;</td><td>&nbsp;</td><td>&nbsp;</td><td><strong>_Y</strong></td><td>57.79691077977488</td><td>57.314148909688996</td><td>57.5484721634755</td><td>57.61263111519109</td><td>57.59189746580034</td><td>57.72763921265182</td><td>57.40857378711385</td><td>56.932511762955315</td><td>57.52203608521606</td><td>57.01308084558094</td><td>...</td></tr><tr><td>&nbsp;</td><td>&nbsp;</td><td>&nbsp;</td><td>&nbsp;</td><td>&nbsp;</td><td>&nbsp;</td><td>&nbsp;</td><td><strong>_tSNE1</strong></td><td>-25.77719735472452</td><td>-25.667509448348913</td><td>-26.298034758632546</td><td>-26.154148674564897</td><td>-25.976201930893737</td><td>-25.950600353468474</td><td>10.833668805797094</td><td>46.387855269473945</td><td>-25.85796531989773</td><td>10.658282771575102</td><td>...</td></tr><tr><td>&nbsp;</td><td>&nbsp;</td><td>&nbsp;</td><td>&nbsp;</td><td>&nbsp;</td><td>&nbsp;</td><td>&nbsp;</td><td><strong>_tSNE2</strong></td><td>33.125469751214034</td><td>33.253273215484846</td><td>33.27313959698363</td><td>33.878698140493384</td><td>32.505965033332124</td><td>32.12761769264904</td><td>41.688696651843884</td><td>-8.68927484206353</td><td>32.869454997701304</td><td>41.45535872326401</td><td>...</td></tr><tr><td>&nbsp;</td><td>&nbsp;</td><td>&nbsp;</td><td>&nbsp;</td><td>&nbsp;</td><td>&nbsp;</td><td>&nbsp;</td><td><strong>cDNAConcNanogramPerMicroliter</strong></td><td>7.4</td><td>7.4</td><td>7.4</td><td>7.4</td><td>7.4</td><td>7.4</td><td>4.2</td><td>4.5</td><td>7.4</td><td>4.2</td><td>...</td></tr><tr><td>&nbsp;</td><td>&nbsp;</td><td>&nbsp;</td><td>&nbsp;</td><td>&nbsp;</td><td>&nbsp;</td><td>&nbsp;</td><td><strong>cDNALibOk</strong></td><td>Y</td><td>Y</td><td>Y</td><td>Y</td><td>Y</td><td>Y</td><td>Y</td><td>Y</td><td>Y</td><td>Y</td><td>...</td></tr><tr><td>&nbsp;</td><td>&nbsp;</td><td>&nbsp;</td><td>&nbsp;</td><td>&nbsp;</td><td>&nbsp;</td><td>&nbsp;</td><td><strong>cDNA_Lib_Ok</strong></td><td>Y</td><td>Y</td><td>Y</td><td>Y</td><td>Y</td><td>Y</td><td>Y</td><td>Y</td><td>Y</td><td>Y</td><td>...</td></tr><tr><td>&nbsp;</td><td>&nbsp;</td><td>&nbsp;</td><td>&nbsp;</td><td>&nbsp;</td><td>&nbsp;</td><td>&nbsp;</td><td><strong>ngperul_cDNA</strong></td><td>7,4</td><td>7,4</td><td>7,4</td><td>7,4</td><td>7,4</td><td>7,4</td><td>4,2</td><td>4,5</td><td>7,4</td><td>4,2</td><td>...</td></tr><tr><td><strong>Accession</strong></td><td><strong>Gene</strong></td><td><strong>_LogCV</strong></td><td><strong>_LogMean</strong></td><td><strong>_Selected</strong></td><td><strong>_Total</strong></td><td><strong>_Valid</strong></td><td>&nbsp;</td><td>&nbsp;</td><td>&nbsp;</td><td>&nbsp;</td><td>&nbsp;</td><td>&nbsp;</td><td>&nbsp;</td><td>&nbsp;</td><td>&nbsp;</td><td>&nbsp;</td><td>&nbsp;</td><td>...</td></tr><tr><td>ENSMUSG00000024647</td><td>Cbln2</td><td>2.7558882942204663</td><td>-2.8864988135661296</td><td>0</td><td>190.0</td><td>1</td><td>&nbsp;</td><td>21.0</td><td>28.0</td><td>28.0</td><td>48.0</td><td>31.0</td><td>29.0</td><td>66.0</td><td>13.0</td><td>22.0</td><td>45.0</td><td>...</td></tr><tr><td>ENSMUSG00000041544</td><td>Ptchd2</td><td>2.970605232151276</td><td>-5.549463799793425</td><td>0</td><td>30.0</td><td>1</td><td>&nbsp;</td><td>1.0</td><td>1.0</td><td>0.0</td><td>0.0</td><td>0.0</td><td>0.0</td><td>1.0</td><td>2.0</td><td>0.0</td><td>0.0</td><td>...</td></tr><tr><td>ENSMUSG00000029503</td><td>P2rx2</td><td>2.355448230718427</td><td>-3.161733688193744</td><td>1</td><td>157.0</td><td>1</td><td>&nbsp;</td><td>14.0</td><td>11.0</td><td>7.0</td><td>13.0</td><td>11.0</td><td>7.0</td><td>16.0</td><td>7.0</td><td>14.0</td><td>9.0</td><td>...</td></tr><tr><td>ENSMUSG00000039942</td><td>Ptger4</td><td>2.14331116452879</td><td>-4.030089634846269</td><td>0</td><td>86.0</td><td>1</td><td>&nbsp;</td><td>2.0</td><td>1.0</td><td>2.0</td><td>2.0</td><td>2.0</td><td>1.0</td><td>0.0</td><td>0.0</td><td>1.0</td><td>1.0</td><td>...</td></tr><tr><td>ENSMUSG00000059187</td><td>Fam19a1</td><td>2.4735615552289905</td><td>-3.561536678627471</td><td>0</td><td>119.0</td><td>1</td><td>&nbsp;</td><td>8.0</td><td>7.0</td><td>9.0</td><td>20.0</td><td>4.0</td><td>11.0</td><td>20.0</td><td>4.0</td><td>16.0</td><td>18.0</td><td>...</td></tr><tr><td>ENSMUSG00000017756</td><td>Slc12a7</td><td>1.8020226105785193</td><td>-3.0900322269204503</td><td>0</td><td>165.0</td><td>1</td><td>&nbsp;</td><td>0.0</td><td>3.0</td><td>1.0</td><td>7.0</td><td>2.0</td><td>1.0</td><td>4.0</td><td>1.0</td><td>1.0</td><td>2.0</td><td>...</td></tr><tr><td>ENSMUSG00000068327</td><td>Tlx2</td><td>0.6651576988132731</td><td>1.820351653100106</td><td>0</td><td>4962.0</td><td>1</td><td>&nbsp;</td><td>14.0</td><td>16.0</td><td>32.0</td><td>40.0</td><td>29.0</td><td>14.0</td><td>42.0</td><td>9.0</td><td>30.0</td><td>39.0</td><td>...</td></tr><tr><td>ENSMUSG00000079560</td><td>Hoxa3</td><td>2.9497811872870185</td><td>-5.812498255967974</td><td>0</td><td>25.0</td><td>1</td><td>&nbsp;</td><td>1.0</td><td>2.0</td><td>2.0</td><td>1.0</td><td>1.0</td><td>2.0</td><td>2.0</td><td>2.0</td><td>3.0</td><td>2.0</td><td>...</td></tr><tr><td>ENSMUSG00000039116</td><td>Adgrg6</td><td>1.2609992224499391</td><td>-2.321928073389531</td><td>0</td><td>281.0</td><td>1</td><td>&nbsp;</td><td>20.0</td><td>72.0</td><td>32.0</td><td>53.0</td><td>23.0</td><td>17.0</td><td>102.0</td><td>27.0</td><td>44.0</td><td>78.0</td><td>...</td></tr><tr><td>ENSMUSG00000022861</td><td>Dgkg</td><td>1.6668044826099966</td><td>-2.6234644077323357</td><td>0</td><td>228.0</td><td>1</td><td>&nbsp;</td><td>18.0</td><td>9.0</td><td>9.0</td><td>15.0</td><td>6.0</td><td>13.0</td><td>16.0</td><td>3.0</td><td>13.0</td><td>17.0</td><td>...</td></tr><tr><td>...</td><td>...</td><td>...</td><td>...</td><td>...</td><td>...</td><td>...</td><td>...</td><td>...</td><td>...</td><td>...</td><td>...</td><td>...</td><td>...</td><td>...</td><td>...</td><td>...</td><td>...</td><td>...</td></tr></table>"
      ],
      "text/plain": [
       "<loompy.loompy.LoomConnection at 0x13e260ac0>"
      ]
     },
     "execution_count": 3,
     "metadata": {},
     "output_type": "execute_result"
    }
   ],
   "source": [
    "loom_gex = lp.connect(f\"{idir}/l5_all.loom\")\n",
    "loom_gex"
   ]
  },
  {
   "cell_type": "code",
   "execution_count": 4,
   "id": "36a3cf46",
   "metadata": {},
   "outputs": [
    {
     "data": {
      "text/plain": [
       "'Adolescent'"
      ]
     },
     "execution_count": 4,
     "metadata": {},
     "output_type": "execute_result"
    }
   ],
   "source": [
    "loom_gex.ca.Project[5]"
   ]
  },
  {
   "cell_type": "code",
   "execution_count": 5,
   "id": "300a1d1c",
   "metadata": {},
   "outputs": [],
   "source": [
    "atac_ctype_keep = set([\n",
    "    'Astrocytes',\n",
    "    'Dentate gyrus granule neurons',\n",
    "    'Vascular endothelial cells',\n",
    "    'Di- and mesencephalon excitatory neurons',\n",
    "    'Spinal cord excitatory neurons',\n",
    "    'Telencephalon projecting excitatory neurons',\n",
    "    'Di- and mesencephalon inhibitory neurons',\n",
    "    'Olfactory inhibitory neurons',\n",
    "    'Spinal cord inhibitory neurons',\n",
    "    'Telencephalon projecting inhibitory neurons',\n",
    "    'Microglia',\n",
    "    'Oligodendrocytes'])\n",
    "excells = ['Di- and mesencephalon excitatory neurons',\n",
    "    'Spinal cord excitatory neurons',\n",
    "    'Telencephalon projecting excitatory neurons']\n",
    "incells = ['Di- and mesencephalon inhibitory neurons',\n",
    "    'Olfactory inhibitory neurons',\n",
    "    'Spinal cord inhibitory neurons',\n",
    "    'Telencephalon projecting inhibitory neurons']"
   ]
  },
  {
   "cell_type": "code",
   "execution_count": 6,
   "id": "ff8d8b5b",
   "metadata": {},
   "outputs": [
    {
     "data": {
      "text/plain": [
       "105312"
      ]
     },
     "execution_count": 6,
     "metadata": {},
     "output_type": "execute_result"
    }
   ],
   "source": [
    "colLocs = []\n",
    "for i, ty in enumerate(loom_gex.ca.TaxonomyRank4):\n",
    "    if ty in atac_ctype_keep:\n",
    "        pj = loom_gex.ca.Project[i]\n",
    "        if pj == '':\n",
    "            pj = 'NA-Adolescent'\n",
    "            \n",
    "        if ty == 'Dentate gyrus granule neurons':\n",
    "            colLocs.append((i, 'Cerebellar Granule Cells', pj, loom_gex.ca.CellID[i]))\n",
    "        elif ty == 'Vascular endothelial cells':\n",
    "            colLocs.append((i, 'Endothelial Cells', pj, loom_gex.ca.CellID[i]))\n",
    "        elif ty in excells:\n",
    "            colLocs.append((i, 'Excitatory Neurons', pj, loom_gex.ca.CellID[i]))\n",
    "        elif ty in incells:\n",
    "            colLocs.append((i, 'Inhibitory Neurons', pj, loom_gex.ca.CellID[i])) \n",
    "        else:\n",
    "            colLocs.append((i, ty, pj, loom_gex.ca.CellID[i]))\n",
    "len(colLocs)      "
   ]
  },
  {
   "cell_type": "code",
   "execution_count": 7,
   "id": "27917bb5",
   "metadata": {},
   "outputs": [
    {
     "data": {
      "text/plain": [
       "[(11640, 'Oligodendrocytes', 'NA-Adolescent', '10X53_4_GCAAACGGGATG-'),\n",
       " (11641, 'Oligodendrocytes', 'NA-Adolescent', '10X53_4_TTAACTCTTCTA-'),\n",
       " (11642, 'Oligodendrocytes', 'NA-Adolescent', '10X53_4_ATGTTGCCAAGT-'),\n",
       " (11643, 'Oligodendrocytes', 'NA-Adolescent', '10X53_6_ATGCACTTCATC-'),\n",
       " (11644, 'Oligodendrocytes', 'NA-Adolescent', '10X52_7_CTAATGAGGGTG-')]"
      ]
     },
     "execution_count": 7,
     "metadata": {},
     "output_type": "execute_result"
    }
   ],
   "source": [
    "colLocs[:5]"
   ]
  },
  {
   "cell_type": "code",
   "execution_count": 10,
   "id": "1c77735c",
   "metadata": {},
   "outputs": [
    {
     "data": {
      "text/plain": [
       "[(11655, 'Oligodendrocytes', 'NA-Adolescent', '10X43_3_TACGCTCACTGA-'),\n",
       " (11666, 'Oligodendrocytes', 'NA-Adolescent', '10X33_4_TAACACTCCGAA-'),\n",
       " (11669, 'Oligodendrocytes', 'NA-Adolescent', '10X53_3_CCGGACCACTCC-'),\n",
       " (11679, 'Oligodendrocytes', 'NA-Adolescent', '10X53_4_TATCGATGTTCT-'),\n",
       " (11687, 'Oligodendrocytes', 'NA-Adolescent', '10X53_4_CCACTGCGTGTA-'),\n",
       " (11694, 'Oligodendrocytes', 'NA-Adolescent', '10X53_4_CTAAACTCAGGT-'),\n",
       " (11702, 'Oligodendrocytes', 'NA-Adolescent', '10X43_3_AATCGAGTGTCA-'),\n",
       " (11704, 'Oligodendrocytes', 'NA-Adolescent', '10X33_4_GCACCTAAAGCA-'),\n",
       " (11705, 'Oligodendrocytes', 'NA-Adolescent', '10X43_3_ACACCTTCAGTG-'),\n",
       " (11708, 'Oligodendrocytes', 'NA-Adolescent', '10X53_4_TGTGACGAGAGC-')]"
      ]
     },
     "execution_count": 10,
     "metadata": {},
     "output_type": "execute_result"
    }
   ],
   "source": [
    "colLocs_11K = sample(colLocs, 11270)\n",
    "colLocs_11K = sorted(colLocs_11K , key=lambda x:x[0])\n",
    "colLocs_11K[:10]"
   ]
  },
  {
   "cell_type": "code",
   "execution_count": 25,
   "id": "b7cc9fd3",
   "metadata": {},
   "outputs": [
    {
     "data": {
      "text/plain": [
       "1983"
      ]
     },
     "execution_count": 25,
     "metadata": {},
     "output_type": "execute_result"
    }
   ],
   "source": [
    "rowLocs = []\n",
    "for i, ty in enumerate(loom_gex.ra.Gene):\n",
    "    if ty in comm_genes:\n",
    "        rowLocs.append((i, ty))\n",
    "len(rowLocs)"
   ]
  },
  {
   "cell_type": "code",
   "execution_count": 26,
   "id": "afcbce2e",
   "metadata": {},
   "outputs": [
    {
     "data": {
      "text/plain": [
       "[(0, 'Cbln2'),\n",
       " (10, 'Scn5a'),\n",
       " (21, 'Cntn5'),\n",
       " (30, 'Tcf7l2'),\n",
       " (39, 'Klhl32'),\n",
       " (64, 'Meis1'),\n",
       " (69, 'Actg1'),\n",
       " (70, 'Galnt13'),\n",
       " (79, 'Mgat4c'),\n",
       " (80, 'Kcnk2')]"
      ]
     },
     "execution_count": 26,
     "metadata": {},
     "output_type": "execute_result"
    }
   ],
   "source": [
    "rowLocs[:10]"
   ]
  },
  {
   "cell_type": "code",
   "execution_count": 27,
   "id": "bdd04bbe",
   "metadata": {},
   "outputs": [
    {
     "data": {
      "text/plain": [
       "1975"
      ]
     },
     "execution_count": 27,
     "metadata": {},
     "output_type": "execute_result"
    }
   ],
   "source": [
    "len(set([x[1] for x in rowLocs]))"
   ]
  },
  {
   "cell_type": "code",
   "execution_count": 28,
   "id": "c487a90a",
   "metadata": {},
   "outputs": [
    {
     "name": "stdout",
     "output_type": "stream",
     "text": [
      "(9199, 'Ccl27a') 461\n",
      "(11534, 'Ccl27a') 628\n",
      "(17672, 'Nova2') 1193\n",
      "(20708, 'Ltbp4') 1435\n",
      "(22208, 'Zfand4') 1540\n",
      "(22544, 'Rp1') 1575\n",
      "(22684, 'Pik3c2g') 1583\n",
      "(25254, 'Tgfb1i1') 1760\n"
     ]
    }
   ],
   "source": [
    "seen = set()\n",
    "for i, x in enumerate(rowLocs):\n",
    "    if x[1] in seen:\n",
    "        print(x, i)\n",
    "    else:\n",
    "        seen.add(x[1]) \n",
    "        "
   ]
  },
  {
   "cell_type": "code",
   "execution_count": 29,
   "id": "3d48994c",
   "metadata": {},
   "outputs": [],
   "source": [
    "rowLocs.remove((9199, 'Ccl27a'))\n",
    "rowLocs.remove((11534, 'Ccl27a'))\n",
    "rowLocs.remove((17672, 'Nova2'))\n",
    "rowLocs.remove((20708, 'Ltbp4') )\n",
    "rowLocs.remove((22544, 'Rp1'))\n",
    "rowLocs.remove((22684, 'Pik3c2g'))\n",
    "rowLocs.remove((25254, 'Tgfb1i1'))\n"
   ]
  },
  {
   "cell_type": "code",
   "execution_count": 30,
   "id": "f20099e2",
   "metadata": {},
   "outputs": [
    {
     "data": {
      "text/plain": [
       "1975"
      ]
     },
     "execution_count": 30,
     "metadata": {},
     "output_type": "execute_result"
    }
   ],
   "source": [
    "rowLocs.remove((22208, 'Zfand4'))\n",
    "len(rowLocs)"
   ]
  },
  {
   "cell_type": "code",
   "execution_count": null,
   "id": "009a4fc8",
   "metadata": {},
   "outputs": [],
   "source": []
  },
  {
   "cell_type": "code",
   "execution_count": 20,
   "id": "992ecea1",
   "metadata": {},
   "outputs": [
    {
     "data": {
      "text/plain": [
       "(27998, 160796)"
      ]
     },
     "execution_count": 20,
     "metadata": {},
     "output_type": "execute_result"
    }
   ],
   "source": [
    "loom_gex.shape"
   ]
  },
  {
   "cell_type": "code",
   "execution_count": null,
   "id": "25ab2a78",
   "metadata": {},
   "outputs": [],
   "source": []
  },
  {
   "cell_type": "code",
   "execution_count": 21,
   "id": "fce6b453",
   "metadata": {},
   "outputs": [
    {
     "data": {
      "text/plain": [
       "29.0"
      ]
     },
     "execution_count": 21,
     "metadata": {},
     "output_type": "execute_result"
    }
   ],
   "source": [
    "loom_gex[0,5]"
   ]
  },
  {
   "cell_type": "code",
   "execution_count": null,
   "id": "606ffa4a",
   "metadata": {},
   "outputs": [],
   "source": []
  },
  {
   "cell_type": "code",
   "execution_count": 22,
   "id": "895ae7ef",
   "metadata": {},
   "outputs": [],
   "source": [
    "gex_genes = set(loom_gex.ra.Gene)"
   ]
  },
  {
   "cell_type": "code",
   "execution_count": 23,
   "id": "439f8d70",
   "metadata": {},
   "outputs": [
    {
     "data": {
      "text/plain": [
       "27933"
      ]
     },
     "execution_count": 23,
     "metadata": {},
     "output_type": "execute_result"
    }
   ],
   "source": [
    "len(gex_genes)"
   ]
  },
  {
   "cell_type": "code",
   "execution_count": 24,
   "id": "6d59934f",
   "metadata": {},
   "outputs": [
    {
     "data": {
      "text/plain": [
       "1975"
      ]
     },
     "execution_count": 24,
     "metadata": {},
     "output_type": "execute_result"
    }
   ],
   "source": [
    "comm_genes = gex_genes.intersection(set(atac_gs))\n",
    "len(comm_genes)"
   ]
  },
  {
   "cell_type": "code",
   "execution_count": 31,
   "id": "5b3ae635",
   "metadata": {},
   "outputs": [],
   "source": [
    "gex_subset = np.zeros((11270, 1975))"
   ]
  },
  {
   "cell_type": "code",
   "execution_count": 34,
   "id": "11de751a",
   "metadata": {},
   "outputs": [
    {
     "name": "stdout",
     "output_type": "stream",
     "text": [
      "0\n",
      "50\n",
      "100\n",
      "150\n",
      "200\n",
      "250\n",
      "300\n",
      "350\n",
      "400\n",
      "450\n",
      "500\n",
      "550\n",
      "600\n",
      "650\n",
      "700\n",
      "750\n",
      "800\n",
      "850\n",
      "900\n",
      "950\n",
      "1000\n",
      "1050\n",
      "1100\n",
      "1150\n",
      "1200\n",
      "1250\n",
      "1300\n",
      "1350\n",
      "1400\n",
      "1450\n",
      "1500\n",
      "1550\n",
      "1600\n",
      "1650\n",
      "1700\n",
      "1750\n",
      "1800\n",
      "1850\n",
      "1900\n",
      "1950\n"
     ]
    }
   ],
   "source": [
    "for i in range(len(rowLocs)):\n",
    "    gn = rowLocs[i][0]\n",
    "    for j in range(len(colLocs_11K)):\n",
    "        cl = colLocs_11K[i][0]\n",
    "        gex_subset[j,i] = loom_gex[gn,cl]\n",
    "    if i%50 == 0:\n",
    "        print(i)"
   ]
  },
  {
   "cell_type": "code",
   "execution_count": 35,
   "id": "78a1e958",
   "metadata": {},
   "outputs": [],
   "source": [
    "np.savez_compressed(f\"{idir}/gex_subset_dump\", gex_subset)"
   ]
  },
  {
   "cell_type": "code",
   "execution_count": 36,
   "id": "fc166dbf",
   "metadata": {},
   "outputs": [],
   "source": [
    "with open(f\"{idir}/gex_subset_annot_dump.txt\", 'w') as f:\n",
    "    for item in colLocs_11K:\n",
    "        f.write(f\"{item[0]}, {item[1]}, {item[2]}, {item[3]}\")\n",
    "        "
   ]
  },
  {
   "cell_type": "code",
   "execution_count": 37,
   "id": "eea724dc",
   "metadata": {},
   "outputs": [],
   "source": [
    "with open(f\"{idir}/gex_subset_genes_dump.txt\", 'w') as f:\n",
    "    for item in rowLocs:\n",
    "        f.write(f\"{item[0]}, {item[1]}\")"
   ]
  },
  {
   "cell_type": "code",
   "execution_count": null,
   "id": "8ffeb9e1",
   "metadata": {},
   "outputs": [],
   "source": []
  },
  {
   "cell_type": "code",
   "execution_count": 47,
   "id": "3b1998ad",
   "metadata": {},
   "outputs": [],
   "source": [
    "gex_csc = scs.csr_matrix(gex_subset[:,:1975])"
   ]
  },
  {
   "cell_type": "code",
   "execution_count": 48,
   "id": "deb6a8a2",
   "metadata": {},
   "outputs": [
    {
     "data": {
      "text/plain": [
       "(11270, 1975)"
      ]
     },
     "execution_count": 48,
     "metadata": {},
     "output_type": "execute_result"
    }
   ],
   "source": [
    "gex_csc.shape"
   ]
  },
  {
   "cell_type": "code",
   "execution_count": null,
   "id": "7a19c0dd",
   "metadata": {},
   "outputs": [],
   "source": []
  },
  {
   "cell_type": "markdown",
   "id": "dde184da",
   "metadata": {},
   "source": [
    "# ATAC"
   ]
  },
  {
   "cell_type": "code",
   "execution_count": 12,
   "id": "0a396dcd",
   "metadata": {},
   "outputs": [],
   "source": [
    "adata_atac = ad.read_h5ad(f\"{idir}/small_atac_gene_activity.h5ad\")"
   ]
  },
  {
   "cell_type": "code",
   "execution_count": 13,
   "id": "c73b29d7",
   "metadata": {},
   "outputs": [
    {
     "name": "stdout",
     "output_type": "stream",
     "text": [
      "The ATAC data has 11270 observations and 3429 features.\n"
     ]
    }
   ],
   "source": [
    "#print(f\"The GEX data has {adata_gex.n_obs} observations and {adata_gex.n_vars} features.\")\n",
    "print(f\"The ATAC data has {adata_atac.n_obs} observations and {adata_atac.n_vars} features.\")"
   ]
  },
  {
   "cell_type": "code",
   "execution_count": 14,
   "id": "132e799f",
   "metadata": {},
   "outputs": [
    {
     "data": {
      "text/plain": [
       "AnnData object with n_obs × n_vars = 11270 × 3429\n",
       "    obs: 'batchname', 'batchname_all', 'final_cell_label'\n",
       "    layers: 'counts'"
      ]
     },
     "execution_count": 14,
     "metadata": {},
     "output_type": "execute_result"
    }
   ],
   "source": [
    "adata_atac"
   ]
  },
  {
   "cell_type": "code",
   "execution_count": 15,
   "id": "026d3c30",
   "metadata": {},
   "outputs": [
    {
     "data": {
      "text/plain": [
       "<11270x3429 sparse matrix of type '<class 'numpy.float32'>'\n",
       "\twith 7077443 stored elements in Compressed Sparse Row format>"
      ]
     },
     "execution_count": 15,
     "metadata": {},
     "output_type": "execute_result"
    }
   ],
   "source": [
    "adata_atac.X"
   ]
  },
  {
   "cell_type": "code",
   "execution_count": 16,
   "id": "78510d20",
   "metadata": {},
   "outputs": [
    {
     "data": {
      "text/plain": [
       "{'Astrocytes',\n",
       " 'Cerebellar Granule Cells',\n",
       " 'Endothelial Cells',\n",
       " 'Excitatory Neurons',\n",
       " 'Inhibitory Neurons',\n",
       " 'Microglia',\n",
       " 'Oligodendrocytes'}"
      ]
     },
     "execution_count": 16,
     "metadata": {},
     "output_type": "execute_result"
    }
   ],
   "source": [
    "atac_ctypes = set(adata_atac.obs[\"final_cell_label\"])\n",
    "atac_ctypes"
   ]
  },
  {
   "cell_type": "code",
   "execution_count": 17,
   "id": "9fe09774",
   "metadata": {},
   "outputs": [
    {
     "data": {
      "text/plain": [
       "{'10x Genomics', 'Cusanovich et al.', 'Fang et al.'}"
      ]
     },
     "execution_count": 17,
     "metadata": {},
     "output_type": "execute_result"
    }
   ],
   "source": [
    "set(adata_atac.obs[\"batchname\"])"
   ]
  },
  {
   "cell_type": "code",
   "execution_count": 18,
   "id": "619c6fe3",
   "metadata": {},
   "outputs": [
    {
     "data": {
      "text/plain": [
       "<11270x3429 sparse matrix of type '<class 'numpy.float32'>'\n",
       "\twith 7077443 stored elements in Compressed Sparse Row format>"
      ]
     },
     "execution_count": 18,
     "metadata": {},
     "output_type": "execute_result"
    }
   ],
   "source": [
    "adata_atac.X"
   ]
  },
  {
   "cell_type": "code",
   "execution_count": 95,
   "id": "7b0b809b",
   "metadata": {},
   "outputs": [
    {
     "data": {
      "text/plain": [
       "'AAACGAACACGCTGTG-1-0-0'"
      ]
     },
     "execution_count": 95,
     "metadata": {},
     "output_type": "execute_result"
    }
   ],
   "source": [
    "adata_atac.obs.index[1]"
   ]
  },
  {
   "cell_type": "code",
   "execution_count": 19,
   "id": "5659f633",
   "metadata": {},
   "outputs": [],
   "source": [
    "atac_gs = [x.strip().split('-')[0] for x in adata_atac.var.index]"
   ]
  },
  {
   "cell_type": "code",
   "execution_count": 40,
   "id": "46151530",
   "metadata": {},
   "outputs": [
    {
     "data": {
      "text/plain": [
       "['Cbln2-204',\n",
       " 'Scn5a-201',\n",
       " 'Cntn5-205',\n",
       " 'Tcf7l2-213',\n",
       " 'Klhl32-201',\n",
       " 'Meis1-209',\n",
       " 'Actg1-204',\n",
       " 'Galnt13-201',\n",
       " 'Mgat4c-211',\n",
       " 'Kcnk2-202']"
      ]
     },
     "execution_count": 40,
     "metadata": {},
     "output_type": "execute_result"
    }
   ],
   "source": [
    "atac_genes_dict = {x.strip().split('-')[0] : x for x in adata_atac.var.index}\n",
    "atac_genes = [atac_genes_dict[x[1]] for x in rowLocs]\n",
    "atac_genes[:10]"
   ]
  },
  {
   "cell_type": "code",
   "execution_count": null,
   "id": "945f326a",
   "metadata": {},
   "outputs": [],
   "source": []
  },
  {
   "cell_type": "code",
   "execution_count": null,
   "id": "b0a5da34",
   "metadata": {},
   "outputs": [],
   "source": []
  },
  {
   "cell_type": "code",
   "execution_count": 41,
   "id": "fb081cf4",
   "metadata": {},
   "outputs": [],
   "source": [
    "atac_subset = adata_atac[:,atac_genes]"
   ]
  },
  {
   "cell_type": "code",
   "execution_count": 43,
   "id": "6e932940",
   "metadata": {},
   "outputs": [
    {
     "data": {
      "text/plain": [
       "<11270x1975 sparse matrix of type '<class 'numpy.float32'>'\n",
       "\twith 4484301 stored elements in Compressed Sparse Row format>"
      ]
     },
     "execution_count": 43,
     "metadata": {},
     "output_type": "execute_result"
    }
   ],
   "source": [
    "atac_subset.X"
   ]
  },
  {
   "cell_type": "code",
   "execution_count": 49,
   "id": "9f2be944",
   "metadata": {},
   "outputs": [
    {
     "data": {
      "text/plain": [
       "(22540, 1975)"
      ]
     },
     "execution_count": 49,
     "metadata": {},
     "output_type": "execute_result"
    }
   ],
   "source": [
    "combArray = scs.vstack([gex_csc, atac_subset.X])\n",
    "combArray.shape"
   ]
  },
  {
   "cell_type": "code",
   "execution_count": 50,
   "id": "83f10472",
   "metadata": {},
   "outputs": [],
   "source": [
    "scIO.mmwrite('scBI_mousebrain_GEXATAC.quantitative.mtx', combArray)\n",
    "del(combArray)"
   ]
  },
  {
   "cell_type": "code",
   "execution_count": null,
   "id": "3a586aeb",
   "metadata": {},
   "outputs": [],
   "source": []
  },
  {
   "cell_type": "code",
   "execution_count": 51,
   "id": "51852cd6",
   "metadata": {},
   "outputs": [
    {
     "data": {
      "text/html": [
       "<div>\n",
       "<style scoped>\n",
       "    .dataframe tbody tr th:only-of-type {\n",
       "        vertical-align: middle;\n",
       "    }\n",
       "\n",
       "    .dataframe tbody tr th {\n",
       "        vertical-align: top;\n",
       "    }\n",
       "\n",
       "    .dataframe thead th {\n",
       "        text-align: right;\n",
       "    }\n",
       "</style>\n",
       "<table border=\"1\" class=\"dataframe\">\n",
       "  <thead>\n",
       "    <tr style=\"text-align: right;\">\n",
       "      <th></th>\n",
       "      <th>cellID</th>\n",
       "      <th>cellLabel</th>\n",
       "      <th>batch</th>\n",
       "      <th>SRC</th>\n",
       "    </tr>\n",
       "  </thead>\n",
       "  <tbody>\n",
       "    <tr>\n",
       "      <th>0</th>\n",
       "      <td>10X43_3_TACGCTCACTGA-</td>\n",
       "      <td>Oligodendrocytes</td>\n",
       "      <td>NA-Adolescent</td>\n",
       "      <td>GEX</td>\n",
       "    </tr>\n",
       "    <tr>\n",
       "      <th>1</th>\n",
       "      <td>10X33_4_TAACACTCCGAA-</td>\n",
       "      <td>Oligodendrocytes</td>\n",
       "      <td>NA-Adolescent</td>\n",
       "      <td>GEX</td>\n",
       "    </tr>\n",
       "    <tr>\n",
       "      <th>2</th>\n",
       "      <td>10X53_3_CCGGACCACTCC-</td>\n",
       "      <td>Oligodendrocytes</td>\n",
       "      <td>NA-Adolescent</td>\n",
       "      <td>GEX</td>\n",
       "    </tr>\n",
       "    <tr>\n",
       "      <th>3</th>\n",
       "      <td>10X53_4_TATCGATGTTCT-</td>\n",
       "      <td>Oligodendrocytes</td>\n",
       "      <td>NA-Adolescent</td>\n",
       "      <td>GEX</td>\n",
       "    </tr>\n",
       "    <tr>\n",
       "      <th>4</th>\n",
       "      <td>10X53_4_CCACTGCGTGTA-</td>\n",
       "      <td>Oligodendrocytes</td>\n",
       "      <td>NA-Adolescent</td>\n",
       "      <td>GEX</td>\n",
       "    </tr>\n",
       "    <tr>\n",
       "      <th>5</th>\n",
       "      <td>10X53_4_CTAAACTCAGGT-</td>\n",
       "      <td>Oligodendrocytes</td>\n",
       "      <td>NA-Adolescent</td>\n",
       "      <td>GEX</td>\n",
       "    </tr>\n",
       "    <tr>\n",
       "      <th>6</th>\n",
       "      <td>10X43_3_AATCGAGTGTCA-</td>\n",
       "      <td>Oligodendrocytes</td>\n",
       "      <td>NA-Adolescent</td>\n",
       "      <td>GEX</td>\n",
       "    </tr>\n",
       "    <tr>\n",
       "      <th>7</th>\n",
       "      <td>10X33_4_GCACCTAAAGCA-</td>\n",
       "      <td>Oligodendrocytes</td>\n",
       "      <td>NA-Adolescent</td>\n",
       "      <td>GEX</td>\n",
       "    </tr>\n",
       "    <tr>\n",
       "      <th>8</th>\n",
       "      <td>10X43_3_ACACCTTCAGTG-</td>\n",
       "      <td>Oligodendrocytes</td>\n",
       "      <td>NA-Adolescent</td>\n",
       "      <td>GEX</td>\n",
       "    </tr>\n",
       "    <tr>\n",
       "      <th>9</th>\n",
       "      <td>10X53_4_TGTGACGAGAGC-</td>\n",
       "      <td>Oligodendrocytes</td>\n",
       "      <td>NA-Adolescent</td>\n",
       "      <td>GEX</td>\n",
       "    </tr>\n",
       "  </tbody>\n",
       "</table>\n",
       "</div>"
      ],
      "text/plain": [
       "                  cellID         cellLabel          batch  SRC\n",
       "0  10X43_3_TACGCTCACTGA-  Oligodendrocytes  NA-Adolescent  GEX\n",
       "1  10X33_4_TAACACTCCGAA-  Oligodendrocytes  NA-Adolescent  GEX\n",
       "2  10X53_3_CCGGACCACTCC-  Oligodendrocytes  NA-Adolescent  GEX\n",
       "3  10X53_4_TATCGATGTTCT-  Oligodendrocytes  NA-Adolescent  GEX\n",
       "4  10X53_4_CCACTGCGTGTA-  Oligodendrocytes  NA-Adolescent  GEX\n",
       "5  10X53_4_CTAAACTCAGGT-  Oligodendrocytes  NA-Adolescent  GEX\n",
       "6  10X43_3_AATCGAGTGTCA-  Oligodendrocytes  NA-Adolescent  GEX\n",
       "7  10X33_4_GCACCTAAAGCA-  Oligodendrocytes  NA-Adolescent  GEX\n",
       "8  10X43_3_ACACCTTCAGTG-  Oligodendrocytes  NA-Adolescent  GEX\n",
       "9  10X53_4_TGTGACGAGAGC-  Oligodendrocytes  NA-Adolescent  GEX"
      ]
     },
     "execution_count": 51,
     "metadata": {},
     "output_type": "execute_result"
    }
   ],
   "source": [
    "fullANNOT = pd.DataFrame(data = {'cellID' : [x[3] for x in colLocs_11K] + list(atac_subset.obs.index),\n",
    "                                 'cellLabel' : [x[1] for x in colLocs_11K] + list(atac_subset.obs['final_cell_label'])})\n",
    "fullANNOT['batch'] = [x[2] for x in colLocs_11K] + list(atac_subset.obs['batchname'])\n",
    "fullANNOT['SRC'] = ['GEX']*len(colLocs_11K) + ['ATAC']*len(atac_subset.obs.index)\n",
    "fullANNOT.head(10)"
   ]
  },
  {
   "cell_type": "code",
   "execution_count": 52,
   "id": "7a2fe0ff",
   "metadata": {},
   "outputs": [
    {
     "data": {
      "text/html": [
       "<div>\n",
       "<style scoped>\n",
       "    .dataframe tbody tr th:only-of-type {\n",
       "        vertical-align: middle;\n",
       "    }\n",
       "\n",
       "    .dataframe tbody tr th {\n",
       "        vertical-align: top;\n",
       "    }\n",
       "\n",
       "    .dataframe thead th {\n",
       "        text-align: right;\n",
       "    }\n",
       "</style>\n",
       "<table border=\"1\" class=\"dataframe\">\n",
       "  <thead>\n",
       "    <tr style=\"text-align: right;\">\n",
       "      <th></th>\n",
       "      <th>cellID</th>\n",
       "      <th>cellLabel</th>\n",
       "      <th>batch</th>\n",
       "      <th>SRC</th>\n",
       "    </tr>\n",
       "  </thead>\n",
       "  <tbody>\n",
       "    <tr>\n",
       "      <th>22530</th>\n",
       "      <td>TCTCGCGCTTCGAATATTTAATTGACCTTATAGCCT-1</td>\n",
       "      <td>Cerebellar Granule Cells</td>\n",
       "      <td>Cusanovich et al.</td>\n",
       "      <td>ATAC</td>\n",
       "    </tr>\n",
       "    <tr>\n",
       "      <th>22531</th>\n",
       "      <td>TCTCGCGCTTCGAATATTTACGATCATCCAGGACGT-1</td>\n",
       "      <td>Excitatory Neurons</td>\n",
       "      <td>Cusanovich et al.</td>\n",
       "      <td>ATAC</td>\n",
       "    </tr>\n",
       "    <tr>\n",
       "      <th>22532</th>\n",
       "      <td>TCTCGCGCTTCGAATATTTACGATCATCGGCTCTGA-1</td>\n",
       "      <td>Astrocytes</td>\n",
       "      <td>Cusanovich et al.</td>\n",
       "      <td>ATAC</td>\n",
       "    </tr>\n",
       "    <tr>\n",
       "      <th>22533</th>\n",
       "      <td>TCTCGCGCTTCGAATATTTACGATCATCTATAGCCT-1</td>\n",
       "      <td>Inhibitory Neurons</td>\n",
       "      <td>Cusanovich et al.</td>\n",
       "      <td>ATAC</td>\n",
       "    </tr>\n",
       "    <tr>\n",
       "      <th>22534</th>\n",
       "      <td>TCTCGCGCTTGCGAGCATAGGCGAGAGCTAATCTTA-1</td>\n",
       "      <td>Cerebellar Granule Cells</td>\n",
       "      <td>Cusanovich et al.</td>\n",
       "      <td>ATAC</td>\n",
       "    </tr>\n",
       "    <tr>\n",
       "      <th>22535</th>\n",
       "      <td>TCTCGCGCTTGCGAGCATTCAAGATAGTCAGGACGT-1</td>\n",
       "      <td>Cerebellar Granule Cells</td>\n",
       "      <td>Cusanovich et al.</td>\n",
       "      <td>ATAC</td>\n",
       "    </tr>\n",
       "    <tr>\n",
       "      <th>22536</th>\n",
       "      <td>TCTCGCGCTTGCTTAGATAGGCGAGAGCGGCTCTGA-1</td>\n",
       "      <td>Microglia</td>\n",
       "      <td>Cusanovich et al.</td>\n",
       "      <td>ATAC</td>\n",
       "    </tr>\n",
       "    <tr>\n",
       "      <th>22537</th>\n",
       "      <td>TCTCGCGCTTGCTTAGATCAGAGAGGTCATAGAGGC-1</td>\n",
       "      <td>Excitatory Neurons</td>\n",
       "      <td>Cusanovich et al.</td>\n",
       "      <td>ATAC</td>\n",
       "    </tr>\n",
       "    <tr>\n",
       "      <th>22538</th>\n",
       "      <td>TCTCGCGCTTGCTTAGATCAGCCGGCTTGGCTCTGA-1</td>\n",
       "      <td>Inhibitory Neurons</td>\n",
       "      <td>Cusanovich et al.</td>\n",
       "      <td>ATAC</td>\n",
       "    </tr>\n",
       "    <tr>\n",
       "      <th>22539</th>\n",
       "      <td>TCTCGCGCTTGCTTAGATTACGATCATCCAGGACGT-1</td>\n",
       "      <td>Astrocytes</td>\n",
       "      <td>Cusanovich et al.</td>\n",
       "      <td>ATAC</td>\n",
       "    </tr>\n",
       "  </tbody>\n",
       "</table>\n",
       "</div>"
      ],
      "text/plain": [
       "                                       cellID                 cellLabel  \\\n",
       "22530  TCTCGCGCTTCGAATATTTAATTGACCTTATAGCCT-1  Cerebellar Granule Cells   \n",
       "22531  TCTCGCGCTTCGAATATTTACGATCATCCAGGACGT-1        Excitatory Neurons   \n",
       "22532  TCTCGCGCTTCGAATATTTACGATCATCGGCTCTGA-1                Astrocytes   \n",
       "22533  TCTCGCGCTTCGAATATTTACGATCATCTATAGCCT-1        Inhibitory Neurons   \n",
       "22534  TCTCGCGCTTGCGAGCATAGGCGAGAGCTAATCTTA-1  Cerebellar Granule Cells   \n",
       "22535  TCTCGCGCTTGCGAGCATTCAAGATAGTCAGGACGT-1  Cerebellar Granule Cells   \n",
       "22536  TCTCGCGCTTGCTTAGATAGGCGAGAGCGGCTCTGA-1                 Microglia   \n",
       "22537  TCTCGCGCTTGCTTAGATCAGAGAGGTCATAGAGGC-1        Excitatory Neurons   \n",
       "22538  TCTCGCGCTTGCTTAGATCAGCCGGCTTGGCTCTGA-1        Inhibitory Neurons   \n",
       "22539  TCTCGCGCTTGCTTAGATTACGATCATCCAGGACGT-1                Astrocytes   \n",
       "\n",
       "                   batch   SRC  \n",
       "22530  Cusanovich et al.  ATAC  \n",
       "22531  Cusanovich et al.  ATAC  \n",
       "22532  Cusanovich et al.  ATAC  \n",
       "22533  Cusanovich et al.  ATAC  \n",
       "22534  Cusanovich et al.  ATAC  \n",
       "22535  Cusanovich et al.  ATAC  \n",
       "22536  Cusanovich et al.  ATAC  \n",
       "22537  Cusanovich et al.  ATAC  \n",
       "22538  Cusanovich et al.  ATAC  \n",
       "22539  Cusanovich et al.  ATAC  "
      ]
     },
     "execution_count": 52,
     "metadata": {},
     "output_type": "execute_result"
    }
   ],
   "source": [
    "fullANNOT.tail(10)"
   ]
  },
  {
   "cell_type": "code",
   "execution_count": 53,
   "id": "2c6c0d3e",
   "metadata": {},
   "outputs": [
    {
     "data": {
      "text/html": [
       "<div>\n",
       "<style scoped>\n",
       "    .dataframe tbody tr th:only-of-type {\n",
       "        vertical-align: middle;\n",
       "    }\n",
       "\n",
       "    .dataframe tbody tr th {\n",
       "        vertical-align: top;\n",
       "    }\n",
       "\n",
       "    .dataframe thead th {\n",
       "        text-align: right;\n",
       "    }\n",
       "</style>\n",
       "<table border=\"1\" class=\"dataframe\">\n",
       "  <thead>\n",
       "    <tr style=\"text-align: right;\">\n",
       "      <th></th>\n",
       "      <th>featID</th>\n",
       "    </tr>\n",
       "  </thead>\n",
       "  <tbody>\n",
       "    <tr>\n",
       "      <th>1965</th>\n",
       "      <td>Stat2</td>\n",
       "    </tr>\n",
       "    <tr>\n",
       "      <th>1966</th>\n",
       "      <td>Socs2</td>\n",
       "    </tr>\n",
       "    <tr>\n",
       "      <th>1967</th>\n",
       "      <td>Dgkh</td>\n",
       "    </tr>\n",
       "    <tr>\n",
       "      <th>1968</th>\n",
       "      <td>Tnip1</td>\n",
       "    </tr>\n",
       "    <tr>\n",
       "      <th>1969</th>\n",
       "      <td>Katna1</td>\n",
       "    </tr>\n",
       "    <tr>\n",
       "      <th>1970</th>\n",
       "      <td>Fbxw11</td>\n",
       "    </tr>\n",
       "    <tr>\n",
       "      <th>1971</th>\n",
       "      <td>Grik4</td>\n",
       "    </tr>\n",
       "    <tr>\n",
       "      <th>1972</th>\n",
       "      <td>Pfkfb3</td>\n",
       "    </tr>\n",
       "    <tr>\n",
       "      <th>1973</th>\n",
       "      <td>Micu1</td>\n",
       "    </tr>\n",
       "    <tr>\n",
       "      <th>1974</th>\n",
       "      <td>Sh3glb2</td>\n",
       "    </tr>\n",
       "  </tbody>\n",
       "</table>\n",
       "</div>"
      ],
      "text/plain": [
       "       featID\n",
       "1965    Stat2\n",
       "1966    Socs2\n",
       "1967     Dgkh\n",
       "1968    Tnip1\n",
       "1969   Katna1\n",
       "1970   Fbxw11\n",
       "1971    Grik4\n",
       "1972   Pfkfb3\n",
       "1973    Micu1\n",
       "1974  Sh3glb2"
      ]
     },
     "execution_count": 53,
     "metadata": {},
     "output_type": "execute_result"
    }
   ],
   "source": [
    "fullFEATS = pd.DataFrame(data = {'featID' : [x[1] for x in rowLocs]})\n",
    "fullFEATS.tail(10)"
   ]
  },
  {
   "cell_type": "code",
   "execution_count": 54,
   "id": "6a1d707c",
   "metadata": {},
   "outputs": [],
   "source": [
    "fullANNOT.to_csv('scBI_mousebrain_GEXATAC.quantitative.annot.tsv', sep=\"\\t\", index=False)"
   ]
  },
  {
   "cell_type": "code",
   "execution_count": 55,
   "id": "f9393e41",
   "metadata": {},
   "outputs": [],
   "source": [
    "fullFEATS.to_csv('scBI_mousebrain_GEXATAC.quantitative.features.tsv', sep=\"\\t\", index=False)"
   ]
  },
  {
   "cell_type": "code",
   "execution_count": 56,
   "id": "5b455fa9",
   "metadata": {},
   "outputs": [
    {
     "data": {
      "text/plain": [
       "132       Cdh23\n",
       "133       Scn1a\n",
       "134         Vgf\n",
       "135      Dzank1\n",
       "136        Grm8\n",
       "137      Rnf152\n",
       "138      Unc13c\n",
       "139       Cadps\n",
       "140       Mapk6\n",
       "141      Spock1\n",
       "142      Rnf208\n",
       "143     Slc38a1\n",
       "144     Sipa1l2\n",
       "145     Zfp385b\n",
       "146     Cntnap4\n",
       "147      Snap91\n",
       "148        Rgs6\n",
       "149        Cdh7\n",
       "150        Ucma\n",
       "151      Igdcc4\n",
       "152     Tnfrsf9\n",
       "153       Nrsn1\n",
       "154     Dnajc27\n",
       "155         Pgr\n",
       "156        Lnx1\n",
       "157     Galntl6\n",
       "158        Gpx2\n",
       "159      Grin2c\n",
       "160       Nr6a1\n",
       "161      Lingo2\n",
       "162       Mdga1\n",
       "163    Cacna2d1\n",
       "164      Klhl14\n",
       "165       Zmym1\n",
       "166     Runx1t1\n",
       "167      Elavl2\n",
       "168       Tenm1\n",
       "169       Zfhx4\n",
       "170     Rasgrf2\n",
       "171       Scn2b\n",
       "172       Cntn4\n",
       "173        Pbx1\n",
       "174      Ankrd6\n",
       "175       Fgfr1\n",
       "176      Atp2b4\n",
       "177        Nos1\n",
       "178        Acly\n",
       "179    Cacna2d2\n",
       "180       Ecel1\n",
       "181       Syce2\n",
       "182      Nfatc2\n",
       "Name: featID, dtype: object"
      ]
     },
     "execution_count": 56,
     "metadata": {},
     "output_type": "execute_result"
    }
   ],
   "source": [
    "fullFEATS['featID'][132:183]"
   ]
  },
  {
   "cell_type": "code",
   "execution_count": 57,
   "id": "1782287e",
   "metadata": {},
   "outputs": [
    {
     "data": {
      "text/plain": [
       "Index(['Cdh23-202', 'Scn1a-204', 'Vgf-201', 'Dzank1-204', 'Grm8-203',\n",
       "       'Rnf152-202', 'Unc13c-201', 'Cadps-204', 'Mapk6-202', 'Spock1-201',\n",
       "       'Rnf208-202', 'Slc38a1-201', 'Sipa1l2-201', 'Zfp385b-201',\n",
       "       'Cntnap4-201', 'Snap91-202', 'Rgs6-201', 'Cdh7-201', 'Ucma-204',\n",
       "       'Igdcc4-203', 'Tnfrsf9-205', 'Nrsn1-204', 'Dnajc27-202', 'Pgr-204',\n",
       "       'Lnx1-202', 'Galntl6-205', 'Gpx2-201', 'Grin2c-202', 'Nr6a1-201',\n",
       "       'Lingo2-204', 'Mdga1-201', 'Cacna2d1-204', 'Klhl14-201', 'Zmym1-201',\n",
       "       'Runx1t1-204', 'Elavl2-209', 'Tenm1-201', 'Zfhx4-201', 'Rasgrf2-201',\n",
       "       'Scn2b-201', 'Cntn4-206', 'Pbx1-202', 'Ankrd6-204', 'Fgfr1-214',\n",
       "       'Atp2b4-207', 'Nos1-207', 'Acly-207', 'Cacna2d2-203', 'Ecel1-201',\n",
       "       'Syce2-204', 'Nfatc2-209'],\n",
       "      dtype='object')"
      ]
     },
     "execution_count": 57,
     "metadata": {},
     "output_type": "execute_result"
    }
   ],
   "source": [
    "atac_subset.var.index[132:183]"
   ]
  },
  {
   "cell_type": "code",
   "execution_count": 58,
   "id": "ed827d91",
   "metadata": {},
   "outputs": [
    {
     "data": {
      "text/plain": [
       "(22540, 4)"
      ]
     },
     "execution_count": 58,
     "metadata": {},
     "output_type": "execute_result"
    }
   ],
   "source": [
    "fullANNOT.shape"
   ]
  },
  {
   "cell_type": "code",
   "execution_count": 59,
   "id": "25107d55",
   "metadata": {},
   "outputs": [
    {
     "data": {
      "text/plain": [
       "(1975, 1)"
      ]
     },
     "execution_count": 59,
     "metadata": {},
     "output_type": "execute_result"
    }
   ],
   "source": [
    "fullFEATS.shape "
   ]
  },
  {
   "cell_type": "code",
   "execution_count": null,
   "id": "a919ac81",
   "metadata": {},
   "outputs": [],
   "source": []
  }
 ],
 "metadata": {
  "kernelspec": {
   "display_name": "Python 3 (ipykernel)",
   "language": "python",
   "name": "python3"
  },
  "language_info": {
   "codemirror_mode": {
    "name": "ipython",
    "version": 3
   },
   "file_extension": ".py",
   "mimetype": "text/x-python",
   "name": "python",
   "nbconvert_exporter": "python",
   "pygments_lexer": "ipython3",
   "version": "3.8.11"
  }
 },
 "nbformat": 4,
 "nbformat_minor": 5
}
