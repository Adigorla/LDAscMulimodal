{
 "cells": [
  {
   "cell_type": "code",
   "execution_count": 4,
   "id": "6a1cc15a",
   "metadata": {},
   "outputs": [],
   "source": [
    "import numpy as np\n",
    "import anndata as ad\n",
    "import scipy.io as scIO\n",
    "import scipy.sparse as scs\n",
    "import pandas as pd\n",
    "from time import time"
   ]
  },
  {
   "cell_type": "code",
   "execution_count": 16,
   "id": "57efe6a3",
   "metadata": {},
   "outputs": [
    {
     "data": {
      "text/plain": [
       "'1.21.5'"
      ]
     },
     "execution_count": 16,
     "metadata": {},
     "output_type": "execute_result"
    }
   ],
   "source": [
    "np.__version__"
   ]
  },
  {
   "cell_type": "code",
   "execution_count": null,
   "id": "64f93a67",
   "metadata": {},
   "outputs": [],
   "source": []
  },
  {
   "cell_type": "markdown",
   "id": "df49e45a",
   "metadata": {},
   "source": [
    "# Import and Explore"
   ]
  },
  {
   "cell_type": "code",
   "execution_count": 17,
   "id": "f5dc206c",
   "metadata": {},
   "outputs": [],
   "source": [
    "idir = '/Users/adityagorla/Desktop/STATS254/opMultiome10x'"
   ]
  },
  {
   "cell_type": "code",
   "execution_count": 18,
   "id": "0a396dcd",
   "metadata": {},
   "outputs": [],
   "source": [
    "adata_gex = ad.read_h5ad(f\"{idir}/multiome_gex_processed_training.h5ad\")\n",
    "adata_atac = ad.read_h5ad(f\"{idir}/multiome_atac_processed_training.h5ad\")"
   ]
  },
  {
   "cell_type": "code",
   "execution_count": 19,
   "id": "c73b29d7",
   "metadata": {},
   "outputs": [
    {
     "name": "stdout",
     "output_type": "stream",
     "text": [
      "The GEX data has 42492 observations and 13431 features.\n",
      "The ATAC data has 42492 observations and 116490 features.\n"
     ]
    }
   ],
   "source": [
    "print(f\"The GEX data has {adata_gex.n_obs} observations and {adata_gex.n_vars} features.\")\n",
    "print(f\"The ATAC data has {adata_atac.n_obs} observations and {adata_atac.n_vars} features.\")"
   ]
  },
  {
   "cell_type": "code",
   "execution_count": 6,
   "id": "132e799f",
   "metadata": {},
   "outputs": [
    {
     "data": {
      "text/plain": [
       "AnnData object with n_obs × n_vars = 42492 × 13431\n",
       "    obs: 'pct_counts_mt', 'n_counts', 'n_genes', 'size_factors', 'phase', 'cell_type', 'pseudotime_order_GEX', 'batch', 'pseudotime_order_ATAC', 'is_train'\n",
       "    var: 'gene_ids', 'feature_types', 'genome'\n",
       "    uns: 'dataset_id', 'organism'\n",
       "    obsm: 'X_pca', 'X_umap'\n",
       "    layers: 'counts'"
      ]
     },
     "execution_count": 6,
     "metadata": {},
     "output_type": "execute_result"
    }
   ],
   "source": [
    "adata_gex"
   ]
  },
  {
   "cell_type": "code",
   "execution_count": 7,
   "id": "ce43f41b",
   "metadata": {},
   "outputs": [
    {
     "data": {
      "text/plain": [
       "AnnData object with n_obs × n_vars = 42492 × 116490\n",
       "    obs: 'nCount_peaks', 'atac_fragments', 'reads_in_peaks_frac', 'blacklist_fraction', 'nucleosome_signal', 'cell_type', 'pseudotime_order_ATAC', 'batch', 'pseudotime_order_GEX', 'is_train'\n",
       "    var: 'feature_types'\n",
       "    uns: 'dataset_id', 'gene_activity_var_names', 'organism', 'sample_pm_varnames'\n",
       "    obsm: 'gene_activity', 'lsi_full', 'lsi_red', 'umap'\n",
       "    layers: 'counts'"
      ]
     },
     "execution_count": 7,
     "metadata": {},
     "output_type": "execute_result"
    }
   ],
   "source": [
    "adata_atac"
   ]
  },
  {
   "cell_type": "code",
   "execution_count": 13,
   "id": "78510d20",
   "metadata": {},
   "outputs": [
    {
     "data": {
      "text/plain": [
       "22"
      ]
     },
     "execution_count": 13,
     "metadata": {},
     "output_type": "execute_result"
    }
   ],
   "source": [
    "len(set(adata_atac.obs[\"cell_type\"]))"
   ]
  },
  {
   "cell_type": "code",
   "execution_count": 14,
   "id": "9fe09774",
   "metadata": {},
   "outputs": [
    {
     "data": {
      "text/plain": [
       "22"
      ]
     },
     "execution_count": 14,
     "metadata": {},
     "output_type": "execute_result"
    }
   ],
   "source": [
    "len(set(adata_gex.obs[\"cell_type\"]))"
   ]
  },
  {
   "cell_type": "code",
   "execution_count": 12,
   "id": "6976cee0",
   "metadata": {},
   "outputs": [
    {
     "data": {
      "text/plain": [
       "{'B1 B',\n",
       " 'CD14+ Mono',\n",
       " 'CD16+ Mono',\n",
       " 'CD4+ T activated',\n",
       " 'CD4+ T naive',\n",
       " 'CD8+ T',\n",
       " 'CD8+ T naive',\n",
       " 'Erythroblast',\n",
       " 'G/M prog',\n",
       " 'HSC',\n",
       " 'ID2-hi myeloid prog',\n",
       " 'ILC',\n",
       " 'Lymph prog',\n",
       " 'MK/E prog',\n",
       " 'NK',\n",
       " 'Naive CD20+ B',\n",
       " 'Normoblast',\n",
       " 'Plasma cell',\n",
       " 'Proerythroblast',\n",
       " 'Transitional B',\n",
       " 'cDC2',\n",
       " 'pDC'}"
      ]
     },
     "execution_count": 12,
     "metadata": {},
     "output_type": "execute_result"
    }
   ],
   "source": [
    "set(adata_atac.obs[\"cell_type\"]).intersection(set(adata_gex.obs[\"cell_type\"]))"
   ]
  },
  {
   "cell_type": "code",
   "execution_count": 27,
   "id": "619c6fe3",
   "metadata": {},
   "outputs": [
    {
     "data": {
      "text/plain": [
       "<42492x13431 sparse matrix of type '<class 'numpy.float64'>'\n",
       "\twith 55690186 stored elements in Compressed Sparse Column format>"
      ]
     },
     "execution_count": 27,
     "metadata": {},
     "output_type": "execute_result"
    }
   ],
   "source": [
    "adata_gex.X"
   ]
  },
  {
   "cell_type": "code",
   "execution_count": 36,
   "id": "46151530",
   "metadata": {},
   "outputs": [
    {
     "data": {
      "text/plain": [
       "Index(['chr1-9776-10668', 'chr1-180726-181005', 'chr1-181117-181803',\n",
       "       'chr1-191133-192055', 'chr1-267562-268456', 'chr1-629497-630394',\n",
       "       'chr1-633515-634474', 'chr1-778276-779191', 'chr1-816868-817761',\n",
       "       'chr1-822804-823597',\n",
       "       ...\n",
       "       'GL000195.1-137376-138301', 'GL000219.1-39933-40839',\n",
       "       'GL000219.1-42172-43054', 'GL000219.1-44703-45584',\n",
       "       'GL000219.1-45726-46450', 'GL000219.1-90062-90937',\n",
       "       'GL000219.1-99257-100160', 'KI270726.1-27152-28034',\n",
       "       'KI270713.1-21434-22336', 'KI270713.1-29629-30491'],\n",
       "      dtype='object', length=116490)"
      ]
     },
     "execution_count": 36,
     "metadata": {},
     "output_type": "execute_result"
    }
   ],
   "source": [
    "adata_atac.var.index"
   ]
  },
  {
   "cell_type": "code",
   "execution_count": 80,
   "id": "3093c891",
   "metadata": {},
   "outputs": [
    {
     "data": {
      "text/html": [
       "<div>\n",
       "<style scoped>\n",
       "    .dataframe tbody tr th:only-of-type {\n",
       "        vertical-align: middle;\n",
       "    }\n",
       "\n",
       "    .dataframe tbody tr th {\n",
       "        vertical-align: top;\n",
       "    }\n",
       "\n",
       "    .dataframe thead th {\n",
       "        text-align: right;\n",
       "    }\n",
       "</style>\n",
       "<table border=\"1\" class=\"dataframe\">\n",
       "  <thead>\n",
       "    <tr style=\"text-align: right;\">\n",
       "      <th></th>\n",
       "      <th>gene_ids</th>\n",
       "      <th>feature_types</th>\n",
       "      <th>genome</th>\n",
       "    </tr>\n",
       "  </thead>\n",
       "  <tbody>\n",
       "    <tr>\n",
       "      <th>AL627309.5</th>\n",
       "      <td>ENSG00000241860</td>\n",
       "      <td>GEX</td>\n",
       "      <td>GRCh38</td>\n",
       "    </tr>\n",
       "    <tr>\n",
       "      <th>LINC01409</th>\n",
       "      <td>ENSG00000237491</td>\n",
       "      <td>GEX</td>\n",
       "      <td>GRCh38</td>\n",
       "    </tr>\n",
       "    <tr>\n",
       "      <th>LINC01128</th>\n",
       "      <td>ENSG00000228794</td>\n",
       "      <td>GEX</td>\n",
       "      <td>GRCh38</td>\n",
       "    </tr>\n",
       "    <tr>\n",
       "      <th>NOC2L</th>\n",
       "      <td>ENSG00000188976</td>\n",
       "      <td>GEX</td>\n",
       "      <td>GRCh38</td>\n",
       "    </tr>\n",
       "    <tr>\n",
       "      <th>KLHL17</th>\n",
       "      <td>ENSG00000187961</td>\n",
       "      <td>GEX</td>\n",
       "      <td>GRCh38</td>\n",
       "    </tr>\n",
       "    <tr>\n",
       "      <th>...</th>\n",
       "      <td>...</td>\n",
       "      <td>...</td>\n",
       "      <td>...</td>\n",
       "    </tr>\n",
       "    <tr>\n",
       "      <th>MT-ND5</th>\n",
       "      <td>ENSG00000198786</td>\n",
       "      <td>GEX</td>\n",
       "      <td>GRCh38</td>\n",
       "    </tr>\n",
       "    <tr>\n",
       "      <th>MT-ND6</th>\n",
       "      <td>ENSG00000198695</td>\n",
       "      <td>GEX</td>\n",
       "      <td>GRCh38</td>\n",
       "    </tr>\n",
       "    <tr>\n",
       "      <th>MT-CYB</th>\n",
       "      <td>ENSG00000198727</td>\n",
       "      <td>GEX</td>\n",
       "      <td>GRCh38</td>\n",
       "    </tr>\n",
       "    <tr>\n",
       "      <th>AL592183.1</th>\n",
       "      <td>ENSG00000273748</td>\n",
       "      <td>GEX</td>\n",
       "      <td>GRCh38</td>\n",
       "    </tr>\n",
       "    <tr>\n",
       "      <th>AC240274.1</th>\n",
       "      <td>ENSG00000271254</td>\n",
       "      <td>GEX</td>\n",
       "      <td>GRCh38</td>\n",
       "    </tr>\n",
       "  </tbody>\n",
       "</table>\n",
       "<p>13431 rows × 3 columns</p>\n",
       "</div>"
      ],
      "text/plain": [
       "                   gene_ids feature_types  genome\n",
       "AL627309.5  ENSG00000241860           GEX  GRCh38\n",
       "LINC01409   ENSG00000237491           GEX  GRCh38\n",
       "LINC01128   ENSG00000228794           GEX  GRCh38\n",
       "NOC2L       ENSG00000188976           GEX  GRCh38\n",
       "KLHL17      ENSG00000187961           GEX  GRCh38\n",
       "...                     ...           ...     ...\n",
       "MT-ND5      ENSG00000198786           GEX  GRCh38\n",
       "MT-ND6      ENSG00000198695           GEX  GRCh38\n",
       "MT-CYB      ENSG00000198727           GEX  GRCh38\n",
       "AL592183.1  ENSG00000273748           GEX  GRCh38\n",
       "AC240274.1  ENSG00000271254           GEX  GRCh38\n",
       "\n",
       "[13431 rows x 3 columns]"
      ]
     },
     "execution_count": 80,
     "metadata": {},
     "output_type": "execute_result"
    }
   ],
   "source": [
    "adata_gex.var"
   ]
  },
  {
   "cell_type": "code",
   "execution_count": 33,
   "id": "5a868282",
   "metadata": {},
   "outputs": [
    {
     "data": {
      "text/plain": [
       "0"
      ]
     },
     "execution_count": 33,
     "metadata": {},
     "output_type": "execute_result"
    }
   ],
   "source": [
    "sum(adata_atac.obs['batch'] != adata_gex.obs['batch'])"
   ]
  },
  {
   "cell_type": "code",
   "execution_count": 72,
   "id": "415b8173",
   "metadata": {},
   "outputs": [
    {
     "data": {
      "text/plain": [
       "<42492x116490 sparse matrix of type '<class 'numpy.float64'>'\n",
       "\twith 143812825 stored elements in Compressed Sparse Column format>"
      ]
     },
     "execution_count": 72,
     "metadata": {},
     "output_type": "execute_result"
    }
   ],
   "source": [
    "adata_atac.X"
   ]
  },
  {
   "cell_type": "code",
   "execution_count": 47,
   "id": "4b12d7fa",
   "metadata": {},
   "outputs": [
    {
     "data": {
      "text/html": [
       "<div>\n",
       "<style scoped>\n",
       "    .dataframe tbody tr th:only-of-type {\n",
       "        vertical-align: middle;\n",
       "    }\n",
       "\n",
       "    .dataframe tbody tr th {\n",
       "        vertical-align: top;\n",
       "    }\n",
       "\n",
       "    .dataframe thead th {\n",
       "        text-align: right;\n",
       "    }\n",
       "</style>\n",
       "<table border=\"1\" class=\"dataframe\">\n",
       "  <thead>\n",
       "    <tr style=\"text-align: right;\">\n",
       "      <th></th>\n",
       "      <th>pct_counts_mt</th>\n",
       "      <th>n_counts</th>\n",
       "      <th>n_genes</th>\n",
       "      <th>size_factors</th>\n",
       "      <th>phase</th>\n",
       "      <th>cell_type</th>\n",
       "      <th>pseudotime_order_GEX</th>\n",
       "      <th>batch</th>\n",
       "      <th>pseudotime_order_ATAC</th>\n",
       "      <th>is_train</th>\n",
       "    </tr>\n",
       "  </thead>\n",
       "  <tbody>\n",
       "    <tr>\n",
       "      <th>TAGTTGTCACCCTCAC-1-s1d1</th>\n",
       "      <td>1.061008</td>\n",
       "      <td>1508.0</td>\n",
       "      <td>1022.0</td>\n",
       "      <td>0.453484</td>\n",
       "      <td>S</td>\n",
       "      <td>Naive CD20+ B</td>\n",
       "      <td>NaN</td>\n",
       "      <td>s1d1</td>\n",
       "      <td>NaN</td>\n",
       "      <td>True</td>\n",
       "    </tr>\n",
       "    <tr>\n",
       "      <th>CTATGGCCATAACGGG-1-s1d1</th>\n",
       "      <td>0.604230</td>\n",
       "      <td>1655.0</td>\n",
       "      <td>1081.0</td>\n",
       "      <td>0.455631</td>\n",
       "      <td>G2M</td>\n",
       "      <td>CD14+ Mono</td>\n",
       "      <td>NaN</td>\n",
       "      <td>s1d1</td>\n",
       "      <td>NaN</td>\n",
       "      <td>True</td>\n",
       "    </tr>\n",
       "    <tr>\n",
       "      <th>CCGCACACAGGTTAAA-1-s1d1</th>\n",
       "      <td>0.650069</td>\n",
       "      <td>7230.0</td>\n",
       "      <td>3304.0</td>\n",
       "      <td>2.435348</td>\n",
       "      <td>G2M</td>\n",
       "      <td>CD8+ T</td>\n",
       "      <td>NaN</td>\n",
       "      <td>s1d1</td>\n",
       "      <td>NaN</td>\n",
       "      <td>True</td>\n",
       "    </tr>\n",
       "    <tr>\n",
       "      <th>TCATTTGGTAATGGAA-1-s1d1</th>\n",
       "      <td>0.812274</td>\n",
       "      <td>1108.0</td>\n",
       "      <td>793.0</td>\n",
       "      <td>0.347226</td>\n",
       "      <td>G2M</td>\n",
       "      <td>CD8+ T</td>\n",
       "      <td>NaN</td>\n",
       "      <td>s1d1</td>\n",
       "      <td>NaN</td>\n",
       "      <td>True</td>\n",
       "    </tr>\n",
       "    <tr>\n",
       "      <th>ACCACATAGGTGTCCA-1-s1d1</th>\n",
       "      <td>1.674770</td>\n",
       "      <td>1851.0</td>\n",
       "      <td>1219.0</td>\n",
       "      <td>0.534205</td>\n",
       "      <td>G2M</td>\n",
       "      <td>CD16+ Mono</td>\n",
       "      <td>NaN</td>\n",
       "      <td>s1d1</td>\n",
       "      <td>NaN</td>\n",
       "      <td>True</td>\n",
       "    </tr>\n",
       "    <tr>\n",
       "      <th>...</th>\n",
       "      <td>...</td>\n",
       "      <td>...</td>\n",
       "      <td>...</td>\n",
       "      <td>...</td>\n",
       "      <td>...</td>\n",
       "      <td>...</td>\n",
       "      <td>...</td>\n",
       "      <td>...</td>\n",
       "      <td>...</td>\n",
       "      <td>...</td>\n",
       "    </tr>\n",
       "    <tr>\n",
       "      <th>ATTCACTTCCTGCGAA-14-s3d7</th>\n",
       "      <td>0.000000</td>\n",
       "      <td>1475.0</td>\n",
       "      <td>967.0</td>\n",
       "      <td>0.636243</td>\n",
       "      <td>G2M</td>\n",
       "      <td>CD8+ T</td>\n",
       "      <td>NaN</td>\n",
       "      <td>s3d7</td>\n",
       "      <td>NaN</td>\n",
       "      <td>True</td>\n",
       "    </tr>\n",
       "    <tr>\n",
       "      <th>GCTCTGTTCTGCAAGT-14-s3d7</th>\n",
       "      <td>0.014362</td>\n",
       "      <td>6963.0</td>\n",
       "      <td>3237.0</td>\n",
       "      <td>3.019859</td>\n",
       "      <td>S</td>\n",
       "      <td>G/M prog</td>\n",
       "      <td>NaN</td>\n",
       "      <td>s3d7</td>\n",
       "      <td>NaN</td>\n",
       "      <td>True</td>\n",
       "    </tr>\n",
       "    <tr>\n",
       "      <th>GCTGAGGAGTGAGCGG-14-s3d7</th>\n",
       "      <td>0.068399</td>\n",
       "      <td>1462.0</td>\n",
       "      <td>876.0</td>\n",
       "      <td>0.495807</td>\n",
       "      <td>G2M</td>\n",
       "      <td>Erythroblast</td>\n",
       "      <td>0.791014</td>\n",
       "      <td>s3d7</td>\n",
       "      <td>0.828536</td>\n",
       "      <td>True</td>\n",
       "    </tr>\n",
       "    <tr>\n",
       "      <th>TACTGAGGTTCGCTCA-14-s3d7</th>\n",
       "      <td>0.000000</td>\n",
       "      <td>2808.0</td>\n",
       "      <td>1584.0</td>\n",
       "      <td>1.125766</td>\n",
       "      <td>G2M</td>\n",
       "      <td>CD14+ Mono</td>\n",
       "      <td>NaN</td>\n",
       "      <td>s3d7</td>\n",
       "      <td>NaN</td>\n",
       "      <td>True</td>\n",
       "    </tr>\n",
       "    <tr>\n",
       "      <th>CAATAAGCAGATAGAC-14-s3d7</th>\n",
       "      <td>0.000000</td>\n",
       "      <td>1488.0</td>\n",
       "      <td>970.0</td>\n",
       "      <td>0.636224</td>\n",
       "      <td>S</td>\n",
       "      <td>CD4+ T naive</td>\n",
       "      <td>NaN</td>\n",
       "      <td>s3d7</td>\n",
       "      <td>NaN</td>\n",
       "      <td>True</td>\n",
       "    </tr>\n",
       "  </tbody>\n",
       "</table>\n",
       "<p>42492 rows × 10 columns</p>\n",
       "</div>"
      ],
      "text/plain": [
       "                          pct_counts_mt  n_counts  n_genes  size_factors  \\\n",
       "TAGTTGTCACCCTCAC-1-s1d1        1.061008    1508.0   1022.0      0.453484   \n",
       "CTATGGCCATAACGGG-1-s1d1        0.604230    1655.0   1081.0      0.455631   \n",
       "CCGCACACAGGTTAAA-1-s1d1        0.650069    7230.0   3304.0      2.435348   \n",
       "TCATTTGGTAATGGAA-1-s1d1        0.812274    1108.0    793.0      0.347226   \n",
       "ACCACATAGGTGTCCA-1-s1d1        1.674770    1851.0   1219.0      0.534205   \n",
       "...                                 ...       ...      ...           ...   \n",
       "ATTCACTTCCTGCGAA-14-s3d7       0.000000    1475.0    967.0      0.636243   \n",
       "GCTCTGTTCTGCAAGT-14-s3d7       0.014362    6963.0   3237.0      3.019859   \n",
       "GCTGAGGAGTGAGCGG-14-s3d7       0.068399    1462.0    876.0      0.495807   \n",
       "TACTGAGGTTCGCTCA-14-s3d7       0.000000    2808.0   1584.0      1.125766   \n",
       "CAATAAGCAGATAGAC-14-s3d7       0.000000    1488.0    970.0      0.636224   \n",
       "\n",
       "                         phase      cell_type  pseudotime_order_GEX batch  \\\n",
       "TAGTTGTCACCCTCAC-1-s1d1      S  Naive CD20+ B                   NaN  s1d1   \n",
       "CTATGGCCATAACGGG-1-s1d1    G2M     CD14+ Mono                   NaN  s1d1   \n",
       "CCGCACACAGGTTAAA-1-s1d1    G2M         CD8+ T                   NaN  s1d1   \n",
       "TCATTTGGTAATGGAA-1-s1d1    G2M         CD8+ T                   NaN  s1d1   \n",
       "ACCACATAGGTGTCCA-1-s1d1    G2M     CD16+ Mono                   NaN  s1d1   \n",
       "...                        ...            ...                   ...   ...   \n",
       "ATTCACTTCCTGCGAA-14-s3d7   G2M         CD8+ T                   NaN  s3d7   \n",
       "GCTCTGTTCTGCAAGT-14-s3d7     S       G/M prog                   NaN  s3d7   \n",
       "GCTGAGGAGTGAGCGG-14-s3d7   G2M   Erythroblast              0.791014  s3d7   \n",
       "TACTGAGGTTCGCTCA-14-s3d7   G2M     CD14+ Mono                   NaN  s3d7   \n",
       "CAATAAGCAGATAGAC-14-s3d7     S   CD4+ T naive                   NaN  s3d7   \n",
       "\n",
       "                          pseudotime_order_ATAC  is_train  \n",
       "TAGTTGTCACCCTCAC-1-s1d1                     NaN      True  \n",
       "CTATGGCCATAACGGG-1-s1d1                     NaN      True  \n",
       "CCGCACACAGGTTAAA-1-s1d1                     NaN      True  \n",
       "TCATTTGGTAATGGAA-1-s1d1                     NaN      True  \n",
       "ACCACATAGGTGTCCA-1-s1d1                     NaN      True  \n",
       "...                                         ...       ...  \n",
       "ATTCACTTCCTGCGAA-14-s3d7                    NaN      True  \n",
       "GCTCTGTTCTGCAAGT-14-s3d7                    NaN      True  \n",
       "GCTGAGGAGTGAGCGG-14-s3d7               0.828536      True  \n",
       "TACTGAGGTTCGCTCA-14-s3d7                    NaN      True  \n",
       "CAATAAGCAGATAGAC-14-s3d7                    NaN      True  \n",
       "\n",
       "[42492 rows x 10 columns]"
      ]
     },
     "execution_count": 47,
     "metadata": {},
     "output_type": "execute_result"
    }
   ],
   "source": [
    "adata_gex.obs"
   ]
  },
  {
   "cell_type": "code",
   "execution_count": 46,
   "id": "2e206716",
   "metadata": {},
   "outputs": [
    {
     "data": {
      "text/plain": [
       "0"
      ]
     },
     "execution_count": 46,
     "metadata": {},
     "output_type": "execute_result"
    }
   ],
   "source": [
    "sum(adata_atac.obs['cell_type'] != adata_gex.obs['cell_type'])"
   ]
  },
  {
   "cell_type": "code",
   "execution_count": 48,
   "id": "7d68c9b5",
   "metadata": {},
   "outputs": [
    {
     "data": {
      "text/html": [
       "<div>\n",
       "<style scoped>\n",
       "    .dataframe tbody tr th:only-of-type {\n",
       "        vertical-align: middle;\n",
       "    }\n",
       "\n",
       "    .dataframe tbody tr th {\n",
       "        vertical-align: top;\n",
       "    }\n",
       "\n",
       "    .dataframe thead th {\n",
       "        text-align: right;\n",
       "    }\n",
       "</style>\n",
       "<table border=\"1\" class=\"dataframe\">\n",
       "  <thead>\n",
       "    <tr style=\"text-align: right;\">\n",
       "      <th></th>\n",
       "      <th>nCount_peaks</th>\n",
       "      <th>atac_fragments</th>\n",
       "      <th>reads_in_peaks_frac</th>\n",
       "      <th>blacklist_fraction</th>\n",
       "      <th>nucleosome_signal</th>\n",
       "      <th>cell_type</th>\n",
       "      <th>pseudotime_order_ATAC</th>\n",
       "      <th>batch</th>\n",
       "      <th>pseudotime_order_GEX</th>\n",
       "      <th>is_train</th>\n",
       "    </tr>\n",
       "  </thead>\n",
       "  <tbody>\n",
       "    <tr>\n",
       "      <th>TAGTTGTCACCCTCAC-1-s1d1</th>\n",
       "      <td>4031.0</td>\n",
       "      <td>5400</td>\n",
       "      <td>0.746481</td>\n",
       "      <td>0.003473</td>\n",
       "      <td>0.642468</td>\n",
       "      <td>Naive CD20+ B</td>\n",
       "      <td>NaN</td>\n",
       "      <td>s1d1</td>\n",
       "      <td>NaN</td>\n",
       "      <td>True</td>\n",
       "    </tr>\n",
       "    <tr>\n",
       "      <th>CTATGGCCATAACGGG-1-s1d1</th>\n",
       "      <td>8636.0</td>\n",
       "      <td>19266</td>\n",
       "      <td>0.448251</td>\n",
       "      <td>0.003126</td>\n",
       "      <td>1.220679</td>\n",
       "      <td>CD14+ Mono</td>\n",
       "      <td>NaN</td>\n",
       "      <td>s1d1</td>\n",
       "      <td>NaN</td>\n",
       "      <td>True</td>\n",
       "    </tr>\n",
       "    <tr>\n",
       "      <th>CCGCACACAGGTTAAA-1-s1d1</th>\n",
       "      <td>4674.0</td>\n",
       "      <td>6177</td>\n",
       "      <td>0.756678</td>\n",
       "      <td>0.001284</td>\n",
       "      <td>0.692573</td>\n",
       "      <td>CD8+ T</td>\n",
       "      <td>NaN</td>\n",
       "      <td>s1d1</td>\n",
       "      <td>NaN</td>\n",
       "      <td>True</td>\n",
       "    </tr>\n",
       "    <tr>\n",
       "      <th>TCATTTGGTAATGGAA-1-s1d1</th>\n",
       "      <td>2803.0</td>\n",
       "      <td>4019</td>\n",
       "      <td>0.697437</td>\n",
       "      <td>0.000714</td>\n",
       "      <td>0.633838</td>\n",
       "      <td>CD8+ T</td>\n",
       "      <td>NaN</td>\n",
       "      <td>s1d1</td>\n",
       "      <td>NaN</td>\n",
       "      <td>True</td>\n",
       "    </tr>\n",
       "    <tr>\n",
       "      <th>ACCACATAGGTGTCCA-1-s1d1</th>\n",
       "      <td>1790.0</td>\n",
       "      <td>2568</td>\n",
       "      <td>0.697040</td>\n",
       "      <td>0.003352</td>\n",
       "      <td>0.727660</td>\n",
       "      <td>CD16+ Mono</td>\n",
       "      <td>NaN</td>\n",
       "      <td>s1d1</td>\n",
       "      <td>NaN</td>\n",
       "      <td>True</td>\n",
       "    </tr>\n",
       "    <tr>\n",
       "      <th>...</th>\n",
       "      <td>...</td>\n",
       "      <td>...</td>\n",
       "      <td>...</td>\n",
       "      <td>...</td>\n",
       "      <td>...</td>\n",
       "      <td>...</td>\n",
       "      <td>...</td>\n",
       "      <td>...</td>\n",
       "      <td>...</td>\n",
       "      <td>...</td>\n",
       "    </tr>\n",
       "    <tr>\n",
       "      <th>ATTCACTTCCTGCGAA-14-s3d7</th>\n",
       "      <td>1349.0</td>\n",
       "      <td>3065</td>\n",
       "      <td>0.440131</td>\n",
       "      <td>0.000000</td>\n",
       "      <td>0.963134</td>\n",
       "      <td>CD8+ T</td>\n",
       "      <td>NaN</td>\n",
       "      <td>s3d7</td>\n",
       "      <td>NaN</td>\n",
       "      <td>True</td>\n",
       "    </tr>\n",
       "    <tr>\n",
       "      <th>GCTCTGTTCTGCAAGT-14-s3d7</th>\n",
       "      <td>8312.0</td>\n",
       "      <td>20679</td>\n",
       "      <td>0.401954</td>\n",
       "      <td>0.000241</td>\n",
       "      <td>0.756219</td>\n",
       "      <td>G/M prog</td>\n",
       "      <td>NaN</td>\n",
       "      <td>s3d7</td>\n",
       "      <td>NaN</td>\n",
       "      <td>True</td>\n",
       "    </tr>\n",
       "    <tr>\n",
       "      <th>GCTGAGGAGTGAGCGG-14-s3d7</th>\n",
       "      <td>2674.0</td>\n",
       "      <td>6903</td>\n",
       "      <td>0.387368</td>\n",
       "      <td>0.000000</td>\n",
       "      <td>0.941300</td>\n",
       "      <td>Erythroblast</td>\n",
       "      <td>0.828536</td>\n",
       "      <td>s3d7</td>\n",
       "      <td>0.791014</td>\n",
       "      <td>True</td>\n",
       "    </tr>\n",
       "    <tr>\n",
       "      <th>TACTGAGGTTCGCTCA-14-s3d7</th>\n",
       "      <td>3920.0</td>\n",
       "      <td>8229</td>\n",
       "      <td>0.476364</td>\n",
       "      <td>0.000510</td>\n",
       "      <td>0.788606</td>\n",
       "      <td>CD14+ Mono</td>\n",
       "      <td>NaN</td>\n",
       "      <td>s3d7</td>\n",
       "      <td>NaN</td>\n",
       "      <td>True</td>\n",
       "    </tr>\n",
       "    <tr>\n",
       "      <th>CAATAAGCAGATAGAC-14-s3d7</th>\n",
       "      <td>4048.0</td>\n",
       "      <td>9280</td>\n",
       "      <td>0.436207</td>\n",
       "      <td>0.000000</td>\n",
       "      <td>0.901690</td>\n",
       "      <td>CD4+ T naive</td>\n",
       "      <td>NaN</td>\n",
       "      <td>s3d7</td>\n",
       "      <td>NaN</td>\n",
       "      <td>True</td>\n",
       "    </tr>\n",
       "  </tbody>\n",
       "</table>\n",
       "<p>42492 rows × 10 columns</p>\n",
       "</div>"
      ],
      "text/plain": [
       "                          nCount_peaks  atac_fragments  reads_in_peaks_frac  \\\n",
       "TAGTTGTCACCCTCAC-1-s1d1         4031.0            5400             0.746481   \n",
       "CTATGGCCATAACGGG-1-s1d1         8636.0           19266             0.448251   \n",
       "CCGCACACAGGTTAAA-1-s1d1         4674.0            6177             0.756678   \n",
       "TCATTTGGTAATGGAA-1-s1d1         2803.0            4019             0.697437   \n",
       "ACCACATAGGTGTCCA-1-s1d1         1790.0            2568             0.697040   \n",
       "...                                ...             ...                  ...   \n",
       "ATTCACTTCCTGCGAA-14-s3d7        1349.0            3065             0.440131   \n",
       "GCTCTGTTCTGCAAGT-14-s3d7        8312.0           20679             0.401954   \n",
       "GCTGAGGAGTGAGCGG-14-s3d7        2674.0            6903             0.387368   \n",
       "TACTGAGGTTCGCTCA-14-s3d7        3920.0            8229             0.476364   \n",
       "CAATAAGCAGATAGAC-14-s3d7        4048.0            9280             0.436207   \n",
       "\n",
       "                          blacklist_fraction  nucleosome_signal  \\\n",
       "TAGTTGTCACCCTCAC-1-s1d1             0.003473           0.642468   \n",
       "CTATGGCCATAACGGG-1-s1d1             0.003126           1.220679   \n",
       "CCGCACACAGGTTAAA-1-s1d1             0.001284           0.692573   \n",
       "TCATTTGGTAATGGAA-1-s1d1             0.000714           0.633838   \n",
       "ACCACATAGGTGTCCA-1-s1d1             0.003352           0.727660   \n",
       "...                                      ...                ...   \n",
       "ATTCACTTCCTGCGAA-14-s3d7            0.000000           0.963134   \n",
       "GCTCTGTTCTGCAAGT-14-s3d7            0.000241           0.756219   \n",
       "GCTGAGGAGTGAGCGG-14-s3d7            0.000000           0.941300   \n",
       "TACTGAGGTTCGCTCA-14-s3d7            0.000510           0.788606   \n",
       "CAATAAGCAGATAGAC-14-s3d7            0.000000           0.901690   \n",
       "\n",
       "                              cell_type  pseudotime_order_ATAC batch  \\\n",
       "TAGTTGTCACCCTCAC-1-s1d1   Naive CD20+ B                    NaN  s1d1   \n",
       "CTATGGCCATAACGGG-1-s1d1      CD14+ Mono                    NaN  s1d1   \n",
       "CCGCACACAGGTTAAA-1-s1d1          CD8+ T                    NaN  s1d1   \n",
       "TCATTTGGTAATGGAA-1-s1d1          CD8+ T                    NaN  s1d1   \n",
       "ACCACATAGGTGTCCA-1-s1d1      CD16+ Mono                    NaN  s1d1   \n",
       "...                                 ...                    ...   ...   \n",
       "ATTCACTTCCTGCGAA-14-s3d7         CD8+ T                    NaN  s3d7   \n",
       "GCTCTGTTCTGCAAGT-14-s3d7       G/M prog                    NaN  s3d7   \n",
       "GCTGAGGAGTGAGCGG-14-s3d7   Erythroblast               0.828536  s3d7   \n",
       "TACTGAGGTTCGCTCA-14-s3d7     CD14+ Mono                    NaN  s3d7   \n",
       "CAATAAGCAGATAGAC-14-s3d7   CD4+ T naive                    NaN  s3d7   \n",
       "\n",
       "                          pseudotime_order_GEX  is_train  \n",
       "TAGTTGTCACCCTCAC-1-s1d1                    NaN      True  \n",
       "CTATGGCCATAACGGG-1-s1d1                    NaN      True  \n",
       "CCGCACACAGGTTAAA-1-s1d1                    NaN      True  \n",
       "TCATTTGGTAATGGAA-1-s1d1                    NaN      True  \n",
       "ACCACATAGGTGTCCA-1-s1d1                    NaN      True  \n",
       "...                                        ...       ...  \n",
       "ATTCACTTCCTGCGAA-14-s3d7                   NaN      True  \n",
       "GCTCTGTTCTGCAAGT-14-s3d7                   NaN      True  \n",
       "GCTGAGGAGTGAGCGG-14-s3d7              0.791014      True  \n",
       "TACTGAGGTTCGCTCA-14-s3d7                   NaN      True  \n",
       "CAATAAGCAGATAGAC-14-s3d7                   NaN      True  \n",
       "\n",
       "[42492 rows x 10 columns]"
      ]
     },
     "execution_count": 48,
     "metadata": {},
     "output_type": "execute_result"
    }
   ],
   "source": [
    "adata_atac.obs"
   ]
  },
  {
   "cell_type": "code",
   "execution_count": 51,
   "id": "275235bc",
   "metadata": {},
   "outputs": [
    {
     "name": "stdout",
     "output_type": "stream",
     "text": [
      "s1d1 :5616\n",
      "s3d7 :6094\n",
      "s3d10 :3909\n",
      "s2d5 :4395\n",
      "s1d3 :3875\n",
      "s1d2 :6069\n",
      "s3d3 :1496\n",
      "s2d4 :5456\n",
      "s2d1 :3811\n",
      "s3d6 :1771\n"
     ]
    }
   ],
   "source": [
    "for elm in set(adata_atac.obs['batch']):\n",
    "    print(f\"{elm} :{list(adata_atac.obs['batch']).count(elm)}\")\n",
    "# Use s2 as train\n"
   ]
  },
  {
   "cell_type": "code",
   "execution_count": 52,
   "id": "bf94ab88",
   "metadata": {},
   "outputs": [
    {
     "data": {
      "text/plain": [
       "scipy.sparse.csc.csc_matrix"
      ]
     },
     "execution_count": 52,
     "metadata": {},
     "output_type": "execute_result"
    }
   ],
   "source": [
    "type(adata_gex.X)"
   ]
  },
  {
   "cell_type": "code",
   "execution_count": 56,
   "id": "db69b90a",
   "metadata": {},
   "outputs": [
    {
     "data": {
      "text/plain": [
       "(array([    0,     0,     0, ..., 42491, 42491, 42491], dtype=int32),\n",
       " array([   45,    68,    70, ..., 13328, 13356, 13391], dtype=int32))"
      ]
     },
     "execution_count": 56,
     "metadata": {},
     "output_type": "execute_result"
    }
   ],
   "source": []
  },
  {
   "cell_type": "code",
   "execution_count": 59,
   "id": "f62fbb23",
   "metadata": {},
   "outputs": [],
   "source": [
    "combArray = scs.hstack([adata_gex.X, adata_atac.X])"
   ]
  },
  {
   "cell_type": "code",
   "execution_count": 60,
   "id": "9ca2e3ca",
   "metadata": {},
   "outputs": [
    {
     "data": {
      "text/plain": [
       "<42492x129921 sparse matrix of type '<class 'numpy.float64'>'\n",
       "\twith 199503011 stored elements in Compressed Sparse Column format>"
      ]
     },
     "execution_count": 60,
     "metadata": {},
     "output_type": "execute_result"
    }
   ],
   "source": [
    "combArray"
   ]
  },
  {
   "cell_type": "code",
   "execution_count": 61,
   "id": "c650cc82",
   "metadata": {},
   "outputs": [],
   "source": [
    "del(combArray)"
   ]
  },
  {
   "cell_type": "code",
   "execution_count": 74,
   "id": "603cf785",
   "metadata": {},
   "outputs": [
    {
     "data": {
      "text/plain": [
       "AL627309.5    ENSG00000241860\n",
       "LINC01409     ENSG00000237491\n",
       "LINC01128     ENSG00000228794\n",
       "NOC2L         ENSG00000188976\n",
       "KLHL17        ENSG00000187961\n",
       "                   ...       \n",
       "MT-ND5        ENSG00000198786\n",
       "MT-ND6        ENSG00000198695\n",
       "MT-CYB        ENSG00000198727\n",
       "AL592183.1    ENSG00000273748\n",
       "AC240274.1    ENSG00000271254\n",
       "Name: gene_ids, Length: 13431, dtype: category\n",
       "Categories (13431, object): ['ENSG00000000419', 'ENSG00000000457', 'ENSG00000000460', 'ENSG00000000938', ..., 'ENSG00000288093', 'ENSG00000288107', 'ENSG00000288156', 'ENSG00000288380']"
      ]
     },
     "execution_count": 74,
     "metadata": {},
     "output_type": "execute_result"
    }
   ],
   "source": [
    "adata_gex.var.gene_ids"
   ]
  },
  {
   "cell_type": "code",
   "execution_count": 97,
   "id": "076d3ad2",
   "metadata": {},
   "outputs": [
    {
     "data": {
      "text/plain": [
       "10000"
      ]
     },
     "execution_count": 97,
     "metadata": {},
     "output_type": "execute_result"
    }
   ],
   "source": [
    "adata_atac.uns['sample_pm_varnames']"
   ]
  },
  {
   "cell_type": "code",
   "execution_count": 102,
   "id": "ee41fec4",
   "metadata": {},
   "outputs": [
    {
     "data": {
      "text/plain": [
       "<42492x19039 sparse matrix of type '<class 'numpy.float64'>'\n",
       "\twith 238859138 stored elements in Compressed Sparse Column format>"
      ]
     },
     "execution_count": 102,
     "metadata": {},
     "output_type": "execute_result"
    }
   ],
   "source": [
    "adata_atac.obsm['gene_activity']"
   ]
  },
  {
   "cell_type": "code",
   "execution_count": null,
   "id": "9638832a",
   "metadata": {},
   "outputs": [],
   "source": []
  },
  {
   "cell_type": "code",
   "execution_count": null,
   "id": "a8576403",
   "metadata": {},
   "outputs": [],
   "source": []
  },
  {
   "cell_type": "code",
   "execution_count": null,
   "id": "3e770683",
   "metadata": {},
   "outputs": [],
   "source": []
  },
  {
   "cell_type": "code",
   "execution_count": null,
   "id": "a896c9b0",
   "metadata": {},
   "outputs": [],
   "source": []
  },
  {
   "cell_type": "markdown",
   "id": "902d784b",
   "metadata": {},
   "source": [
    "# Build full MTX w/ annots"
   ]
  },
  {
   "cell_type": "markdown",
   "id": "d0c6523e",
   "metadata": {},
   "source": [
    "### Full X data"
   ]
  },
  {
   "cell_type": "code",
   "execution_count": 86,
   "id": "5e84f12c",
   "metadata": {},
   "outputs": [
    {
     "data": {
      "text/html": [
       "<div>\n",
       "<style scoped>\n",
       "    .dataframe tbody tr th:only-of-type {\n",
       "        vertical-align: middle;\n",
       "    }\n",
       "\n",
       "    .dataframe tbody tr th {\n",
       "        vertical-align: top;\n",
       "    }\n",
       "\n",
       "    .dataframe thead th {\n",
       "        text-align: right;\n",
       "    }\n",
       "</style>\n",
       "<table border=\"1\" class=\"dataframe\">\n",
       "  <thead>\n",
       "    <tr style=\"text-align: right;\">\n",
       "      <th></th>\n",
       "      <th>cellID</th>\n",
       "      <th>cellLabel</th>\n",
       "    </tr>\n",
       "  </thead>\n",
       "  <tbody>\n",
       "    <tr>\n",
       "      <th>0</th>\n",
       "      <td>TAGTTGTCACCCTCAC-1-s1d1</td>\n",
       "      <td>Naive CD20+ B</td>\n",
       "    </tr>\n",
       "    <tr>\n",
       "      <th>1</th>\n",
       "      <td>CTATGGCCATAACGGG-1-s1d1</td>\n",
       "      <td>CD14+ Mono</td>\n",
       "    </tr>\n",
       "    <tr>\n",
       "      <th>2</th>\n",
       "      <td>CCGCACACAGGTTAAA-1-s1d1</td>\n",
       "      <td>CD8+ T</td>\n",
       "    </tr>\n",
       "    <tr>\n",
       "      <th>3</th>\n",
       "      <td>TCATTTGGTAATGGAA-1-s1d1</td>\n",
       "      <td>CD8+ T</td>\n",
       "    </tr>\n",
       "    <tr>\n",
       "      <th>4</th>\n",
       "      <td>ACCACATAGGTGTCCA-1-s1d1</td>\n",
       "      <td>CD16+ Mono</td>\n",
       "    </tr>\n",
       "    <tr>\n",
       "      <th>5</th>\n",
       "      <td>TGGATTGGTTTGCGAA-1-s1d1</td>\n",
       "      <td>B1 B</td>\n",
       "    </tr>\n",
       "    <tr>\n",
       "      <th>6</th>\n",
       "      <td>GTGAGCGAGTAAAGGT-1-s1d1</td>\n",
       "      <td>Lymph prog</td>\n",
       "    </tr>\n",
       "    <tr>\n",
       "      <th>7</th>\n",
       "      <td>GACTTAGGTTGCGCGA-1-s1d1</td>\n",
       "      <td>CD4+ T naive</td>\n",
       "    </tr>\n",
       "    <tr>\n",
       "      <th>8</th>\n",
       "      <td>GCCTTACTCGTTACAA-1-s1d1</td>\n",
       "      <td>CD4+ T activated</td>\n",
       "    </tr>\n",
       "    <tr>\n",
       "      <th>9</th>\n",
       "      <td>GTAAGGTCAATAACCT-1-s1d1</td>\n",
       "      <td>B1 B</td>\n",
       "    </tr>\n",
       "  </tbody>\n",
       "</table>\n",
       "</div>"
      ],
      "text/plain": [
       "                    cellID         cellLabel\n",
       "0  TAGTTGTCACCCTCAC-1-s1d1     Naive CD20+ B\n",
       "1  CTATGGCCATAACGGG-1-s1d1        CD14+ Mono\n",
       "2  CCGCACACAGGTTAAA-1-s1d1            CD8+ T\n",
       "3  TCATTTGGTAATGGAA-1-s1d1            CD8+ T\n",
       "4  ACCACATAGGTGTCCA-1-s1d1        CD16+ Mono\n",
       "5  TGGATTGGTTTGCGAA-1-s1d1              B1 B\n",
       "6  GTGAGCGAGTAAAGGT-1-s1d1        Lymph prog\n",
       "7  GACTTAGGTTGCGCGA-1-s1d1      CD4+ T naive\n",
       "8  GCCTTACTCGTTACAA-1-s1d1  CD4+ T activated\n",
       "9  GTAAGGTCAATAACCT-1-s1d1              B1 B"
      ]
     },
     "execution_count": 86,
     "metadata": {},
     "output_type": "execute_result"
    }
   ],
   "source": [
    "fullANNOT = pd.DataFrame(data = {'cellID' : list(adata_gex.obs.index),\n",
    "                                 'cellLabel' : list(adata_gex.obs['cell_type'])})\n",
    "fullANNOT.head(10)"
   ]
  },
  {
   "cell_type": "code",
   "execution_count": 88,
   "id": "1759f193",
   "metadata": {},
   "outputs": [
    {
     "data": {
      "text/html": [
       "<div>\n",
       "<style scoped>\n",
       "    .dataframe tbody tr th:only-of-type {\n",
       "        vertical-align: middle;\n",
       "    }\n",
       "\n",
       "    .dataframe tbody tr th {\n",
       "        vertical-align: top;\n",
       "    }\n",
       "\n",
       "    .dataframe thead th {\n",
       "        text-align: right;\n",
       "    }\n",
       "</style>\n",
       "<table border=\"1\" class=\"dataframe\">\n",
       "  <thead>\n",
       "    <tr style=\"text-align: right;\">\n",
       "      <th></th>\n",
       "      <th>cellID</th>\n",
       "      <th>cellLabel</th>\n",
       "      <th>batch</th>\n",
       "      <th>phase</th>\n",
       "    </tr>\n",
       "  </thead>\n",
       "  <tbody>\n",
       "    <tr>\n",
       "      <th>0</th>\n",
       "      <td>TAGTTGTCACCCTCAC-1-s1d1</td>\n",
       "      <td>Naive CD20+ B</td>\n",
       "      <td>s1d1</td>\n",
       "      <td>S</td>\n",
       "    </tr>\n",
       "    <tr>\n",
       "      <th>1</th>\n",
       "      <td>CTATGGCCATAACGGG-1-s1d1</td>\n",
       "      <td>CD14+ Mono</td>\n",
       "      <td>s1d1</td>\n",
       "      <td>G2M</td>\n",
       "    </tr>\n",
       "    <tr>\n",
       "      <th>2</th>\n",
       "      <td>CCGCACACAGGTTAAA-1-s1d1</td>\n",
       "      <td>CD8+ T</td>\n",
       "      <td>s1d1</td>\n",
       "      <td>G2M</td>\n",
       "    </tr>\n",
       "    <tr>\n",
       "      <th>3</th>\n",
       "      <td>TCATTTGGTAATGGAA-1-s1d1</td>\n",
       "      <td>CD8+ T</td>\n",
       "      <td>s1d1</td>\n",
       "      <td>G2M</td>\n",
       "    </tr>\n",
       "    <tr>\n",
       "      <th>4</th>\n",
       "      <td>ACCACATAGGTGTCCA-1-s1d1</td>\n",
       "      <td>CD16+ Mono</td>\n",
       "      <td>s1d1</td>\n",
       "      <td>G2M</td>\n",
       "    </tr>\n",
       "    <tr>\n",
       "      <th>5</th>\n",
       "      <td>TGGATTGGTTTGCGAA-1-s1d1</td>\n",
       "      <td>B1 B</td>\n",
       "      <td>s1d1</td>\n",
       "      <td>G2M</td>\n",
       "    </tr>\n",
       "    <tr>\n",
       "      <th>6</th>\n",
       "      <td>GTGAGCGAGTAAAGGT-1-s1d1</td>\n",
       "      <td>Lymph prog</td>\n",
       "      <td>s1d1</td>\n",
       "      <td>S</td>\n",
       "    </tr>\n",
       "    <tr>\n",
       "      <th>7</th>\n",
       "      <td>GACTTAGGTTGCGCGA-1-s1d1</td>\n",
       "      <td>CD4+ T naive</td>\n",
       "      <td>s1d1</td>\n",
       "      <td>G2M</td>\n",
       "    </tr>\n",
       "    <tr>\n",
       "      <th>8</th>\n",
       "      <td>GCCTTACTCGTTACAA-1-s1d1</td>\n",
       "      <td>CD4+ T activated</td>\n",
       "      <td>s1d1</td>\n",
       "      <td>S</td>\n",
       "    </tr>\n",
       "    <tr>\n",
       "      <th>9</th>\n",
       "      <td>GTAAGGTCAATAACCT-1-s1d1</td>\n",
       "      <td>B1 B</td>\n",
       "      <td>s1d1</td>\n",
       "      <td>G2M</td>\n",
       "    </tr>\n",
       "  </tbody>\n",
       "</table>\n",
       "</div>"
      ],
      "text/plain": [
       "                    cellID         cellLabel batch phase\n",
       "0  TAGTTGTCACCCTCAC-1-s1d1     Naive CD20+ B  s1d1     S\n",
       "1  CTATGGCCATAACGGG-1-s1d1        CD14+ Mono  s1d1   G2M\n",
       "2  CCGCACACAGGTTAAA-1-s1d1            CD8+ T  s1d1   G2M\n",
       "3  TCATTTGGTAATGGAA-1-s1d1            CD8+ T  s1d1   G2M\n",
       "4  ACCACATAGGTGTCCA-1-s1d1        CD16+ Mono  s1d1   G2M\n",
       "5  TGGATTGGTTTGCGAA-1-s1d1              B1 B  s1d1   G2M\n",
       "6  GTGAGCGAGTAAAGGT-1-s1d1        Lymph prog  s1d1     S\n",
       "7  GACTTAGGTTGCGCGA-1-s1d1      CD4+ T naive  s1d1   G2M\n",
       "8  GCCTTACTCGTTACAA-1-s1d1  CD4+ T activated  s1d1     S\n",
       "9  GTAAGGTCAATAACCT-1-s1d1              B1 B  s1d1   G2M"
      ]
     },
     "execution_count": 88,
     "metadata": {},
     "output_type": "execute_result"
    }
   ],
   "source": [
    "fullANNOT['batch'] = list(adata_gex.obs.batch)\n",
    "fullANNOT['phase'] = list(adata_gex.obs.phase)\n",
    "fullANNOT.head(10)"
   ]
  },
  {
   "cell_type": "code",
   "execution_count": 89,
   "id": "a4222d33",
   "metadata": {},
   "outputs": [
    {
     "data": {
      "text/plain": [
       "(42492, 4)"
      ]
     },
     "execution_count": 89,
     "metadata": {},
     "output_type": "execute_result"
    }
   ],
   "source": [
    "fullANNOT.shape"
   ]
  },
  {
   "cell_type": "code",
   "execution_count": 83,
   "id": "43978189",
   "metadata": {},
   "outputs": [
    {
     "data": {
      "text/html": [
       "<div>\n",
       "<style scoped>\n",
       "    .dataframe tbody tr th:only-of-type {\n",
       "        vertical-align: middle;\n",
       "    }\n",
       "\n",
       "    .dataframe tbody tr th {\n",
       "        vertical-align: top;\n",
       "    }\n",
       "\n",
       "    .dataframe thead th {\n",
       "        text-align: right;\n",
       "    }\n",
       "</style>\n",
       "<table border=\"1\" class=\"dataframe\">\n",
       "  <thead>\n",
       "    <tr style=\"text-align: right;\">\n",
       "      <th></th>\n",
       "      <th>featID</th>\n",
       "      <th>featType</th>\n",
       "    </tr>\n",
       "  </thead>\n",
       "  <tbody>\n",
       "    <tr>\n",
       "      <th>129911</th>\n",
       "      <td>GL000195.1-137376-138301</td>\n",
       "      <td>ATAC</td>\n",
       "    </tr>\n",
       "    <tr>\n",
       "      <th>129912</th>\n",
       "      <td>GL000219.1-39933-40839</td>\n",
       "      <td>ATAC</td>\n",
       "    </tr>\n",
       "    <tr>\n",
       "      <th>129913</th>\n",
       "      <td>GL000219.1-42172-43054</td>\n",
       "      <td>ATAC</td>\n",
       "    </tr>\n",
       "    <tr>\n",
       "      <th>129914</th>\n",
       "      <td>GL000219.1-44703-45584</td>\n",
       "      <td>ATAC</td>\n",
       "    </tr>\n",
       "    <tr>\n",
       "      <th>129915</th>\n",
       "      <td>GL000219.1-45726-46450</td>\n",
       "      <td>ATAC</td>\n",
       "    </tr>\n",
       "    <tr>\n",
       "      <th>129916</th>\n",
       "      <td>GL000219.1-90062-90937</td>\n",
       "      <td>ATAC</td>\n",
       "    </tr>\n",
       "    <tr>\n",
       "      <th>129917</th>\n",
       "      <td>GL000219.1-99257-100160</td>\n",
       "      <td>ATAC</td>\n",
       "    </tr>\n",
       "    <tr>\n",
       "      <th>129918</th>\n",
       "      <td>KI270726.1-27152-28034</td>\n",
       "      <td>ATAC</td>\n",
       "    </tr>\n",
       "    <tr>\n",
       "      <th>129919</th>\n",
       "      <td>KI270713.1-21434-22336</td>\n",
       "      <td>ATAC</td>\n",
       "    </tr>\n",
       "    <tr>\n",
       "      <th>129920</th>\n",
       "      <td>KI270713.1-29629-30491</td>\n",
       "      <td>ATAC</td>\n",
       "    </tr>\n",
       "  </tbody>\n",
       "</table>\n",
       "</div>"
      ],
      "text/plain": [
       "                          featID featType\n",
       "129911  GL000195.1-137376-138301     ATAC\n",
       "129912    GL000219.1-39933-40839     ATAC\n",
       "129913    GL000219.1-42172-43054     ATAC\n",
       "129914    GL000219.1-44703-45584     ATAC\n",
       "129915    GL000219.1-45726-46450     ATAC\n",
       "129916    GL000219.1-90062-90937     ATAC\n",
       "129917   GL000219.1-99257-100160     ATAC\n",
       "129918    KI270726.1-27152-28034     ATAC\n",
       "129919    KI270713.1-21434-22336     ATAC\n",
       "129920    KI270713.1-29629-30491     ATAC"
      ]
     },
     "execution_count": 83,
     "metadata": {},
     "output_type": "execute_result"
    }
   ],
   "source": [
    "fullFEATS = pd.DataFrame(data = { 'featID' : list(adata_gex.var.index)+list(adata_atac.var.index),\n",
    "                                 'featType': list(adata_gex.var.feature_types)+list(adata_atac.var.feature_types)})\n",
    "fullFEATS.tail(10)"
   ]
  },
  {
   "cell_type": "code",
   "execution_count": 82,
   "id": "0cbc0bd5",
   "metadata": {},
   "outputs": [
    {
     "data": {
      "text/plain": [
       "(129921, 2)"
      ]
     },
     "execution_count": 82,
     "metadata": {},
     "output_type": "execute_result"
    }
   ],
   "source": [
    "fullFEATS.shape"
   ]
  },
  {
   "cell_type": "code",
   "execution_count": 90,
   "id": "fc44fb74",
   "metadata": {},
   "outputs": [
    {
     "data": {
      "text/plain": [
       "(42492, 129921)"
      ]
     },
     "execution_count": 90,
     "metadata": {},
     "output_type": "execute_result"
    }
   ],
   "source": [
    "combArray = scs.hstack([adata_gex.X, adata_atac.X])\n",
    "combArray.shape"
   ]
  },
  {
   "cell_type": "code",
   "execution_count": 91,
   "id": "dab6fb01",
   "metadata": {},
   "outputs": [],
   "source": [
    "scIO.mmwrite('opmultiome_GEXATAC.quantitative.mtx', combArray)\n",
    "del(combArray)"
   ]
  },
  {
   "cell_type": "code",
   "execution_count": 92,
   "id": "439fb5aa",
   "metadata": {},
   "outputs": [],
   "source": [
    "fullANNOT.to_csv('opmultiome_GEXATAC.quantitative.annot.tsv', sep=\"\\t\", index=False)"
   ]
  },
  {
   "cell_type": "code",
   "execution_count": 94,
   "id": "1ec25e49",
   "metadata": {},
   "outputs": [],
   "source": [
    "fullFEATS.to_csv('opmultiome_GEXATAC.quantitative.features.tsv', sep=\"\\t\", index=False)"
   ]
  },
  {
   "cell_type": "code",
   "execution_count": null,
   "id": "1e5a5e15",
   "metadata": {},
   "outputs": [],
   "source": []
  },
  {
   "cell_type": "markdown",
   "id": "ad4cec1c",
   "metadata": {},
   "source": [
    "### GEX and AS data"
   ]
  },
  {
   "cell_type": "code",
   "execution_count": 99,
   "id": "7d906b21",
   "metadata": {},
   "outputs": [
    {
     "data": {
      "text/html": [
       "<div>\n",
       "<style scoped>\n",
       "    .dataframe tbody tr th:only-of-type {\n",
       "        vertical-align: middle;\n",
       "    }\n",
       "\n",
       "    .dataframe tbody tr th {\n",
       "        vertical-align: top;\n",
       "    }\n",
       "\n",
       "    .dataframe thead th {\n",
       "        text-align: right;\n",
       "    }\n",
       "</style>\n",
       "<table border=\"1\" class=\"dataframe\">\n",
       "  <thead>\n",
       "    <tr style=\"text-align: right;\">\n",
       "      <th></th>\n",
       "      <th>featID</th>\n",
       "      <th>featType</th>\n",
       "    </tr>\n",
       "  </thead>\n",
       "  <tbody>\n",
       "    <tr>\n",
       "      <th>32460</th>\n",
       "      <td>BPY2</td>\n",
       "      <td>ATACas</td>\n",
       "    </tr>\n",
       "    <tr>\n",
       "      <th>32461</th>\n",
       "      <td>DAZ1</td>\n",
       "      <td>ATACas</td>\n",
       "    </tr>\n",
       "    <tr>\n",
       "      <th>32462</th>\n",
       "      <td>DAZ2</td>\n",
       "      <td>ATACas</td>\n",
       "    </tr>\n",
       "    <tr>\n",
       "      <th>32463</th>\n",
       "      <td>PRYP3</td>\n",
       "      <td>ATACas</td>\n",
       "    </tr>\n",
       "    <tr>\n",
       "      <th>32464</th>\n",
       "      <td>CDY1B</td>\n",
       "      <td>ATACas</td>\n",
       "    </tr>\n",
       "    <tr>\n",
       "      <th>32465</th>\n",
       "      <td>BPY2B</td>\n",
       "      <td>ATACas</td>\n",
       "    </tr>\n",
       "    <tr>\n",
       "      <th>32466</th>\n",
       "      <td>DAZ3</td>\n",
       "      <td>ATACas</td>\n",
       "    </tr>\n",
       "    <tr>\n",
       "      <th>32467</th>\n",
       "      <td>DAZ4</td>\n",
       "      <td>ATACas</td>\n",
       "    </tr>\n",
       "    <tr>\n",
       "      <th>32468</th>\n",
       "      <td>BPY2C</td>\n",
       "      <td>ATACas</td>\n",
       "    </tr>\n",
       "    <tr>\n",
       "      <th>32469</th>\n",
       "      <td>CDY1</td>\n",
       "      <td>ATACas</td>\n",
       "    </tr>\n",
       "  </tbody>\n",
       "</table>\n",
       "</div>"
      ],
      "text/plain": [
       "      featID featType\n",
       "32460   BPY2   ATACas\n",
       "32461   DAZ1   ATACas\n",
       "32462   DAZ2   ATACas\n",
       "32463  PRYP3   ATACas\n",
       "32464  CDY1B   ATACas\n",
       "32465  BPY2B   ATACas\n",
       "32466   DAZ3   ATACas\n",
       "32467   DAZ4   ATACas\n",
       "32468  BPY2C   ATACas\n",
       "32469   CDY1   ATACas"
      ]
     },
     "execution_count": 99,
     "metadata": {},
     "output_type": "execute_result"
    }
   ],
   "source": [
    "gexasFEATS = pd.DataFrame(data = { 'featID' : list(adata_gex.var.index)+list(adata_atac.uns['gene_activity_var_names']),\n",
    "                                 'featType': list(adata_gex.var.feature_types)+list(['ATACas']*len(adata_atac.uns['gene_activity_var_names']))})\n",
    "gexasFEATS.tail(10)"
   ]
  },
  {
   "cell_type": "code",
   "execution_count": 100,
   "id": "77b2f87e",
   "metadata": {},
   "outputs": [
    {
     "data": {
      "text/plain": [
       "(32470, 2)"
      ]
     },
     "execution_count": 100,
     "metadata": {},
     "output_type": "execute_result"
    }
   ],
   "source": [
    "gexasFEATS.shape"
   ]
  },
  {
   "cell_type": "code",
   "execution_count": 103,
   "id": "e19d9470",
   "metadata": {},
   "outputs": [
    {
     "data": {
      "text/plain": [
       "(42492, 32470)"
      ]
     },
     "execution_count": 103,
     "metadata": {},
     "output_type": "execute_result"
    }
   ],
   "source": [
    "combArray = scs.hstack([adata_gex.X, adata_atac.obsm['gene_activity']])\n",
    "combArray.shape"
   ]
  },
  {
   "cell_type": "code",
   "execution_count": 104,
   "id": "634fc912",
   "metadata": {},
   "outputs": [],
   "source": [
    "scIO.mmwrite('opmultiome_GEXATACas.quantitative.mtx', combArray)\n",
    "del(combArray)"
   ]
  },
  {
   "cell_type": "code",
   "execution_count": 105,
   "id": "86eeea1a",
   "metadata": {},
   "outputs": [],
   "source": [
    "fullANNOT.to_csv('opmultiome_GEXATACas.quantitative.annot.tsv', sep=\"\\t\", index=False)"
   ]
  },
  {
   "cell_type": "code",
   "execution_count": 106,
   "id": "cf583a84",
   "metadata": {},
   "outputs": [],
   "source": [
    "gexasFEATS.to_csv('opmultiome_GEXATACas.quantitative.features.tsv', sep=\"\\t\", index=False)"
   ]
  },
  {
   "cell_type": "code",
   "execution_count": null,
   "id": "19de859d",
   "metadata": {},
   "outputs": [],
   "source": []
  },
  {
   "cell_type": "markdown",
   "id": "daa78be4",
   "metadata": {},
   "source": [
    "### Site 2 only"
   ]
  },
  {
   "cell_type": "code",
   "execution_count": 5,
   "id": "b4e24d2b",
   "metadata": {},
   "outputs": [],
   "source": [
    "s2_cells = adata_gex.obs_names[(adata_gex.obs[\"batch\"] ==\"s2d4\") | (adata_gex.obs[\"batch\"] == \"s2d5\") | (adata_gex.obs[\"batch\"] == \"s2d1\")]"
   ]
  },
  {
   "cell_type": "code",
   "execution_count": 6,
   "id": "abd06c76",
   "metadata": {},
   "outputs": [],
   "source": [
    "s2_gex = adata_gex[s2_cells]\n",
    "s2_atac = adata_atac[s2_cells]"
   ]
  },
  {
   "cell_type": "code",
   "execution_count": 7,
   "id": "d5888465",
   "metadata": {},
   "outputs": [
    {
     "data": {
      "text/html": [
       "<div>\n",
       "<style scoped>\n",
       "    .dataframe tbody tr th:only-of-type {\n",
       "        vertical-align: middle;\n",
       "    }\n",
       "\n",
       "    .dataframe tbody tr th {\n",
       "        vertical-align: top;\n",
       "    }\n",
       "\n",
       "    .dataframe thead th {\n",
       "        text-align: right;\n",
       "    }\n",
       "</style>\n",
       "<table border=\"1\" class=\"dataframe\">\n",
       "  <thead>\n",
       "    <tr style=\"text-align: right;\">\n",
       "      <th></th>\n",
       "      <th>cellID</th>\n",
       "      <th>cellLabel</th>\n",
       "      <th>batch</th>\n",
       "      <th>phase</th>\n",
       "    </tr>\n",
       "  </thead>\n",
       "  <tbody>\n",
       "    <tr>\n",
       "      <th>0</th>\n",
       "      <td>ACGTTACAGGCATTAC-4-s2d1</td>\n",
       "      <td>CD16+ Mono</td>\n",
       "      <td>s2d1</td>\n",
       "      <td>S</td>\n",
       "    </tr>\n",
       "    <tr>\n",
       "      <th>1</th>\n",
       "      <td>GGTGATTTCGCTAGAT-4-s2d1</td>\n",
       "      <td>Erythroblast</td>\n",
       "      <td>s2d1</td>\n",
       "      <td>S</td>\n",
       "    </tr>\n",
       "    <tr>\n",
       "      <th>2</th>\n",
       "      <td>ACAGGATCACTAAGAA-4-s2d1</td>\n",
       "      <td>cDC2</td>\n",
       "      <td>s2d1</td>\n",
       "      <td>G2M</td>\n",
       "    </tr>\n",
       "    <tr>\n",
       "      <th>3</th>\n",
       "      <td>CGCTACTTCATCCACC-4-s2d1</td>\n",
       "      <td>CD14+ Mono</td>\n",
       "      <td>s2d1</td>\n",
       "      <td>S</td>\n",
       "    </tr>\n",
       "    <tr>\n",
       "      <th>4</th>\n",
       "      <td>ATACCGGTCATGTGGT-4-s2d1</td>\n",
       "      <td>NK</td>\n",
       "      <td>s2d1</td>\n",
       "      <td>G2M</td>\n",
       "    </tr>\n",
       "    <tr>\n",
       "      <th>5</th>\n",
       "      <td>GGTAGGAGTACAAAGA-4-s2d1</td>\n",
       "      <td>Erythroblast</td>\n",
       "      <td>s2d1</td>\n",
       "      <td>G2M</td>\n",
       "    </tr>\n",
       "    <tr>\n",
       "      <th>6</th>\n",
       "      <td>GGAATCTTCCTCAGTC-4-s2d1</td>\n",
       "      <td>CD14+ Mono</td>\n",
       "      <td>s2d1</td>\n",
       "      <td>G2M</td>\n",
       "    </tr>\n",
       "    <tr>\n",
       "      <th>7</th>\n",
       "      <td>ATTCAACCACCACAAC-4-s2d1</td>\n",
       "      <td>Erythroblast</td>\n",
       "      <td>s2d1</td>\n",
       "      <td>G2M</td>\n",
       "    </tr>\n",
       "    <tr>\n",
       "      <th>8</th>\n",
       "      <td>CCCTGGACAGCACGAA-4-s2d1</td>\n",
       "      <td>Erythroblast</td>\n",
       "      <td>s2d1</td>\n",
       "      <td>G2M</td>\n",
       "    </tr>\n",
       "    <tr>\n",
       "      <th>9</th>\n",
       "      <td>CACTTAAAGGATCACT-4-s2d1</td>\n",
       "      <td>MK/E prog</td>\n",
       "      <td>s2d1</td>\n",
       "      <td>G2M</td>\n",
       "    </tr>\n",
       "  </tbody>\n",
       "</table>\n",
       "</div>"
      ],
      "text/plain": [
       "                    cellID     cellLabel batch phase\n",
       "0  ACGTTACAGGCATTAC-4-s2d1    CD16+ Mono  s2d1     S\n",
       "1  GGTGATTTCGCTAGAT-4-s2d1  Erythroblast  s2d1     S\n",
       "2  ACAGGATCACTAAGAA-4-s2d1          cDC2  s2d1   G2M\n",
       "3  CGCTACTTCATCCACC-4-s2d1    CD14+ Mono  s2d1     S\n",
       "4  ATACCGGTCATGTGGT-4-s2d1            NK  s2d1   G2M\n",
       "5  GGTAGGAGTACAAAGA-4-s2d1  Erythroblast  s2d1   G2M\n",
       "6  GGAATCTTCCTCAGTC-4-s2d1    CD14+ Mono  s2d1   G2M\n",
       "7  ATTCAACCACCACAAC-4-s2d1  Erythroblast  s2d1   G2M\n",
       "8  CCCTGGACAGCACGAA-4-s2d1  Erythroblast  s2d1   G2M\n",
       "9  CACTTAAAGGATCACT-4-s2d1     MK/E prog  s2d1   G2M"
      ]
     },
     "execution_count": 7,
     "metadata": {},
     "output_type": "execute_result"
    }
   ],
   "source": [
    "s2ANNOT = pd.DataFrame(data = {'cellID' : list(s2_gex.obs.index),\n",
    "                                 'cellLabel' : list(s2_gex.obs['cell_type'])})\n",
    "s2ANNOT['batch'] = list(s2_gex.obs.batch)\n",
    "s2ANNOT['phase'] = list(s2_gex.obs.phase)\n",
    "s2ANNOT.head(10)"
   ]
  },
  {
   "cell_type": "code",
   "execution_count": 8,
   "id": "26c79e34",
   "metadata": {},
   "outputs": [
    {
     "data": {
      "text/plain": [
       "(13662, 4)"
      ]
     },
     "execution_count": 8,
     "metadata": {},
     "output_type": "execute_result"
    }
   ],
   "source": [
    "s2ANNOT.shape"
   ]
  },
  {
   "cell_type": "code",
   "execution_count": 9,
   "id": "44b99101",
   "metadata": {},
   "outputs": [
    {
     "data": {
      "text/html": [
       "<div>\n",
       "<style scoped>\n",
       "    .dataframe tbody tr th:only-of-type {\n",
       "        vertical-align: middle;\n",
       "    }\n",
       "\n",
       "    .dataframe tbody tr th {\n",
       "        vertical-align: top;\n",
       "    }\n",
       "\n",
       "    .dataframe thead th {\n",
       "        text-align: right;\n",
       "    }\n",
       "</style>\n",
       "<table border=\"1\" class=\"dataframe\">\n",
       "  <thead>\n",
       "    <tr style=\"text-align: right;\">\n",
       "      <th></th>\n",
       "      <th>featID</th>\n",
       "      <th>featType</th>\n",
       "    </tr>\n",
       "  </thead>\n",
       "  <tbody>\n",
       "    <tr>\n",
       "      <th>129911</th>\n",
       "      <td>GL000195.1-137376-138301</td>\n",
       "      <td>ATAC</td>\n",
       "    </tr>\n",
       "    <tr>\n",
       "      <th>129912</th>\n",
       "      <td>GL000219.1-39933-40839</td>\n",
       "      <td>ATAC</td>\n",
       "    </tr>\n",
       "    <tr>\n",
       "      <th>129913</th>\n",
       "      <td>GL000219.1-42172-43054</td>\n",
       "      <td>ATAC</td>\n",
       "    </tr>\n",
       "    <tr>\n",
       "      <th>129914</th>\n",
       "      <td>GL000219.1-44703-45584</td>\n",
       "      <td>ATAC</td>\n",
       "    </tr>\n",
       "    <tr>\n",
       "      <th>129915</th>\n",
       "      <td>GL000219.1-45726-46450</td>\n",
       "      <td>ATAC</td>\n",
       "    </tr>\n",
       "    <tr>\n",
       "      <th>129916</th>\n",
       "      <td>GL000219.1-90062-90937</td>\n",
       "      <td>ATAC</td>\n",
       "    </tr>\n",
       "    <tr>\n",
       "      <th>129917</th>\n",
       "      <td>GL000219.1-99257-100160</td>\n",
       "      <td>ATAC</td>\n",
       "    </tr>\n",
       "    <tr>\n",
       "      <th>129918</th>\n",
       "      <td>KI270726.1-27152-28034</td>\n",
       "      <td>ATAC</td>\n",
       "    </tr>\n",
       "    <tr>\n",
       "      <th>129919</th>\n",
       "      <td>KI270713.1-21434-22336</td>\n",
       "      <td>ATAC</td>\n",
       "    </tr>\n",
       "    <tr>\n",
       "      <th>129920</th>\n",
       "      <td>KI270713.1-29629-30491</td>\n",
       "      <td>ATAC</td>\n",
       "    </tr>\n",
       "  </tbody>\n",
       "</table>\n",
       "</div>"
      ],
      "text/plain": [
       "                          featID featType\n",
       "129911  GL000195.1-137376-138301     ATAC\n",
       "129912    GL000219.1-39933-40839     ATAC\n",
       "129913    GL000219.1-42172-43054     ATAC\n",
       "129914    GL000219.1-44703-45584     ATAC\n",
       "129915    GL000219.1-45726-46450     ATAC\n",
       "129916    GL000219.1-90062-90937     ATAC\n",
       "129917   GL000219.1-99257-100160     ATAC\n",
       "129918    KI270726.1-27152-28034     ATAC\n",
       "129919    KI270713.1-21434-22336     ATAC\n",
       "129920    KI270713.1-29629-30491     ATAC"
      ]
     },
     "execution_count": 9,
     "metadata": {},
     "output_type": "execute_result"
    }
   ],
   "source": [
    "s2FEATS = pd.DataFrame(data = { 'featID' : list(s2_gex.var.index)+list(s2_atac.var.index),\n",
    "                                 'featType': list(s2_gex.var.feature_types)+list(s2_atac.var.feature_types)})\n",
    "s2FEATS.tail(10)"
   ]
  },
  {
   "cell_type": "code",
   "execution_count": 10,
   "id": "ab9a73aa",
   "metadata": {},
   "outputs": [
    {
     "data": {
      "text/plain": [
       "(129921, 2)"
      ]
     },
     "execution_count": 10,
     "metadata": {},
     "output_type": "execute_result"
    }
   ],
   "source": [
    "s2FEATS.shape"
   ]
  },
  {
   "cell_type": "code",
   "execution_count": 118,
   "id": "264be849",
   "metadata": {},
   "outputs": [
    {
     "data": {
      "text/plain": [
       "(13662, 129921)"
      ]
     },
     "execution_count": 118,
     "metadata": {},
     "output_type": "execute_result"
    }
   ],
   "source": [
    "combArray = scs.hstack([s2_gex.X, s2_atac.X])\n",
    "combArray.shape"
   ]
  },
  {
   "cell_type": "code",
   "execution_count": 119,
   "id": "2176fcc4",
   "metadata": {},
   "outputs": [],
   "source": [
    "scIO.mmwrite('opmultiome_GEXATAC_s2.quantitative.mtx', combArray)\n",
    "del(combArray)"
   ]
  },
  {
   "cell_type": "code",
   "execution_count": 11,
   "id": "a9fb78dc",
   "metadata": {},
   "outputs": [],
   "source": [
    "s2ANNOT.to_csv('opmultiome_GEXATAC_s2.quantitative.annot.tsv', sep=\"\\t\", index=False)"
   ]
  },
  {
   "cell_type": "code",
   "execution_count": 12,
   "id": "a6d529bb",
   "metadata": {},
   "outputs": [],
   "source": [
    "s2FEATS.to_csv('opmultiome_GEXATAC_s2.quantitative.features.tsv', sep=\"\\t\", index=False)"
   ]
  },
  {
   "cell_type": "code",
   "execution_count": null,
   "id": "e3a99a14",
   "metadata": {},
   "outputs": [],
   "source": []
  },
  {
   "cell_type": "code",
   "execution_count": 20,
   "id": "63631e77",
   "metadata": {},
   "outputs": [
    {
     "data": {
      "text/plain": [
       "Index(['AL627309.5', 'LINC01409', 'LINC01128', 'NOC2L', 'KLHL17', 'ISG15',\n",
       "       'C1orf159', 'SDF4', 'B3GALT6', 'UBE2J2',\n",
       "       ...\n",
       "       'MT-ATP6', 'MT-CO3', 'MT-ND3', 'MT-ND4L', 'MT-ND4', 'MT-ND5', 'MT-ND6',\n",
       "       'MT-CYB', 'AL592183.1', 'AC240274.1'],\n",
       "      dtype='object', length=13431)"
      ]
     },
     "execution_count": 20,
     "metadata": {},
     "output_type": "execute_result"
    }
   ],
   "source": [
    "adata_gex.var.index"
   ]
  },
  {
   "cell_type": "code",
   "execution_count": 8,
   "id": "19aa9495",
   "metadata": {},
   "outputs": [],
   "source": [
    "bh = ['SDF4', 'AL627309.5', 'AC240274.1', 'MT-CO3', 'MT-ND5', 'UBE2J2']"
   ]
  },
  {
   "cell_type": "code",
   "execution_count": 16,
   "id": "077ffb9d",
   "metadata": {},
   "outputs": [],
   "source": [
    "gex_subset = np.zeros((1983, 11270))\n",
    "rnd_mat = np.random.rand(1983, 11270)"
   ]
  },
  {
   "cell_type": "code",
   "execution_count": 20,
   "id": "1def0a41",
   "metadata": {},
   "outputs": [
    {
     "name": "stdout",
     "output_type": "stream",
     "text": [
      "4.142457008361816\n"
     ]
    }
   ],
   "source": [
    "st = time()\n",
    "for i in range(1983):\n",
    "    gn = i%6\n",
    "    for j in range(11270):\n",
    "        cl = j%6\n",
    "        gex_subset[i,j] = rnd_mat[gn, cl]\n",
    "print(time()- st)"
   ]
  },
  {
   "cell_type": "code",
   "execution_count": null,
   "id": "7622421f",
   "metadata": {},
   "outputs": [],
   "source": []
  }
 ],
 "metadata": {
  "kernelspec": {
   "display_name": "Python 3 (ipykernel)",
   "language": "python",
   "name": "python3"
  },
  "language_info": {
   "codemirror_mode": {
    "name": "ipython",
    "version": 3
   },
   "file_extension": ".py",
   "mimetype": "text/x-python",
   "name": "python",
   "nbconvert_exporter": "python",
   "pygments_lexer": "ipython3",
   "version": "3.8.11"
  }
 },
 "nbformat": 4,
 "nbformat_minor": 5
}
